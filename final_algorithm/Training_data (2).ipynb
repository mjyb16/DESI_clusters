{
 "cells": [
  {
   "cell_type": "code",
   "execution_count": 1,
   "metadata": {},
   "outputs": [],
   "source": [
    "from sklearn.neighbors import NearestNeighbors\n",
    "import pandas as pd\n",
    "import numpy as np\n",
    "from scipy import spatial\n",
    "from astropy.table import Table\n",
    "from astropy.cosmology import LambdaCDM as Cos\n",
    "from astropy.io import fits\n",
    "from astropy.coordinates import SkyCoord\n",
    "from astropy import units as u\n",
    "import matplotlib.pyplot as plt\n",
    "from IPython import display \n",
    "from scipy import stats\n",
    "from scipy.interpolate import interp1d\n",
    "from scipy.stats import norm\n",
    "import fitsio\n",
    "\n",
    "import pickle\n",
    "import dask"
   ]
  },
  {
   "cell_type": "code",
   "execution_count": 2,
   "metadata": {},
   "outputs": [
    {
     "data": {
      "text/html": [
       "<table style=\"border: 2px solid white;\">\n",
       "<tr>\n",
       "<td style=\"vertical-align: top; border: 0px solid white\">\n",
       "<h3 style=\"text-align: left;\">Client</h3>\n",
       "<ul style=\"text-align: left; list-style: none; margin: 0; padding: 0;\">\n",
       "  <li><b>Scheduler: </b>tcp://127.0.0.1:37333</li>\n",
       "  <li><b>Dashboard: </b><a href='http://127.0.0.1:8787/status' target='_blank'>http://127.0.0.1:8787/status</a>\n",
       "</ul>\n",
       "</td>\n",
       "<td style=\"vertical-align: top; border: 0px solid white\">\n",
       "<h3 style=\"text-align: left;\">Cluster</h3>\n",
       "<ul style=\"text-align: left; list-style:none; margin: 0; padding: 0;\">\n",
       "  <li><b>Workers: </b>9</li>\n",
       "  <li><b>Cores: </b>72</li>\n",
       "  <li><b>Memory: </b>540.15 GB</li>\n",
       "</ul>\n",
       "</td>\n",
       "</tr>\n",
       "</table>"
      ],
      "text/plain": [
       "<Client: scheduler='tcp://127.0.0.1:37333' processes=9 cores=72>"
      ]
     },
     "execution_count": 2,
     "metadata": {},
     "output_type": "execute_result"
    }
   ],
   "source": [
    "from dask.distributed import Client, LocalCluster\n",
    "cluster = LocalCluster(n_workers = 9)\n",
    "client = Client(cluster)\n",
    "client"
   ]
  },
  {
   "cell_type": "code",
   "execution_count": 3,
   "metadata": {},
   "outputs": [],
   "source": [
    "table_of_centers = pd.read_csv(\"table_of_centers_dr9.csv\")\n",
    "table_of_centers_south = table_of_centers[0:437]\n",
    "table_of_centers_north = table_of_centers[437:]\n",
    "clusters = []"
   ]
  },
  {
   "cell_type": "code",
   "execution_count": 4,
   "metadata": {},
   "outputs": [],
   "source": [
    "testing_centers_south = table_of_centers_south.sample(n = 10)\n",
    "testing_centers_north = table_of_centers_north.sample(n = 10)"
   ]
  },
  {
   "cell_type": "code",
   "execution_count": 86,
   "metadata": {},
   "outputs": [],
   "source": [
    "testing_centers_south_2 = table_of_centers_south.sample(n = 10)"
   ]
  },
  {
   "cell_type": "code",
   "execution_count": 21,
   "metadata": {},
   "outputs": [
    {
     "name": "stdout",
     "output_type": "stream",
     "text": [
      "/global/project/projectdirs/cosmo/data/legacysurvey/dr9/south/sweep/9.0/sweep-000m030-010m025.fits\n",
      "/global/project/projectdirs/cosmo/data/legacysurvey/dr9/south/sweep/9.0/sweep-300p000-310p005.fits\n",
      "/global/project/projectdirs/cosmo/data/legacysurvey/dr9/south/sweep/9.0/sweep-330m020-340m015.fits\n",
      "/global/project/projectdirs/cosmo/data/legacysurvey/dr9/south/sweep/9.0/sweep-350p035-360p040.fits\n",
      "/global/project/projectdirs/cosmo/data/legacysurvey/dr9/south/sweep/9.0/sweep-060m025-070m020.fits\n",
      "/global/project/projectdirs/cosmo/data/legacysurvey/dr9/south/sweep/9.0/sweep-030m055-040m050.fits\n",
      "/global/project/projectdirs/cosmo/data/legacysurvey/dr9/south/sweep/9.0/sweep-340m040-350m035.fits\n",
      "/global/project/projectdirs/cosmo/data/legacysurvey/dr9/south/sweep/9.0/sweep-180p015-190p020.fits\n",
      "/global/project/projectdirs/cosmo/data/legacysurvey/dr9/south/sweep/9.0/sweep-110p025-120p030.fits\n",
      "/global/project/projectdirs/cosmo/data/legacysurvey/dr9/south/sweep/9.0/sweep-120m005-130p000.fits\n"
     ]
    }
   ],
   "source": [
    "print(testing_centers_south.patch.iloc[0])\n",
    "print(testing_centers_south.patch.iloc[1])\n",
    "print(testing_centers_south.patch.iloc[2])\n",
    "print(testing_centers_south.patch.iloc[3])\n",
    "print(testing_centers_south.patch.iloc[4])\n",
    "print(testing_centers_south.patch.iloc[5])\n",
    "print(testing_centers_south.patch.iloc[6])\n",
    "print(testing_centers_south.patch.iloc[7])\n",
    "print(testing_centers_south.patch.iloc[8])\n",
    "print(testing_centers_south.patch.iloc[9])"
   ]
  },
  {
   "cell_type": "code",
   "execution_count": 22,
   "metadata": {},
   "outputs": [
    {
     "name": "stdout",
     "output_type": "stream",
     "text": [
      "/global/project/projectdirs/cosmo/data/legacysurvey/dr9/north/sweep/9.0/sweep-240p070-250p075.fits\n",
      "/global/project/projectdirs/cosmo/data/legacysurvey/dr9/north/sweep/9.0/sweep-280p050-290p055.fits\n",
      "/global/project/projectdirs/cosmo/data/legacysurvey/dr9/north/sweep/9.0/sweep-180p045-190p050.fits\n",
      "/global/project/projectdirs/cosmo/data/legacysurvey/dr9/north/sweep/9.0/sweep-100p045-110p050.fits\n",
      "/global/project/projectdirs/cosmo/data/legacysurvey/dr9/north/sweep/9.0/sweep-320p015-330p020.fits\n",
      "/global/project/projectdirs/cosmo/data/legacysurvey/dr9/north/sweep/9.0/sweep-270p065-280p070.fits\n",
      "/global/project/projectdirs/cosmo/data/legacysurvey/dr9/north/sweep/9.0/sweep-350m005-360p000.fits\n",
      "/global/project/projectdirs/cosmo/data/legacysurvey/dr9/north/sweep/9.0/sweep-220p060-230p065.fits\n",
      "/global/project/projectdirs/cosmo/data/legacysurvey/dr9/north/sweep/9.0/sweep-120p025-130p030.fits\n",
      "/global/project/projectdirs/cosmo/data/legacysurvey/dr9/north/sweep/9.0/sweep-140p070-150p075.fits\n"
     ]
    }
   ],
   "source": [
    "print(testing_centers_north.patch.iloc[0])\n",
    "print(testing_centers_north.patch.iloc[1])\n",
    "print(testing_centers_north.patch.iloc[2])\n",
    "print(testing_centers_north.patch.iloc[3])\n",
    "print(testing_centers_north.patch.iloc[4])\n",
    "print(testing_centers_north.patch.iloc[5])\n",
    "print(testing_centers_north.patch.iloc[6])\n",
    "print(testing_centers_north.patch.iloc[7])\n",
    "print(testing_centers_north.patch.iloc[8])\n",
    "print(testing_centers_north.patch.iloc[9])"
   ]
  },
  {
   "cell_type": "code",
   "execution_count": 87,
   "metadata": {},
   "outputs": [
    {
     "name": "stdout",
     "output_type": "stream",
     "text": [
      "/global/project/projectdirs/cosmo/data/legacysurvey/dr9/south/sweep/9.0/sweep-020m010-030m005.fits\n",
      "/global/project/projectdirs/cosmo/data/legacysurvey/dr9/south/sweep/9.0/sweep-190m015-200m010.fits\n",
      "/global/project/projectdirs/cosmo/data/legacysurvey/dr9/south/sweep/9.0/sweep-330m020-340m015.fits\n",
      "/global/project/projectdirs/cosmo/data/legacysurvey/dr9/south/sweep/9.0/sweep-240p000-250p005.fits\n",
      "/global/project/projectdirs/cosmo/data/legacysurvey/dr9/south/sweep/9.0/sweep-120p015-130p020.fits\n",
      "/global/project/projectdirs/cosmo/data/legacysurvey/dr9/south/sweep/9.0/sweep-060m005-070p000.fits\n",
      "/global/project/projectdirs/cosmo/data/legacysurvey/dr9/south/sweep/9.0/sweep-110m005-120p000.fits\n",
      "/global/project/projectdirs/cosmo/data/legacysurvey/dr9/south/sweep/9.0/sweep-100m060-110m055.fits\n",
      "/global/project/projectdirs/cosmo/data/legacysurvey/dr9/south/sweep/9.0/sweep-030p025-040p030.fits\n",
      "/global/project/projectdirs/cosmo/data/legacysurvey/dr9/south/sweep/9.0/sweep-300m060-310m055.fits\n"
     ]
    }
   ],
   "source": [
    "print(testing_centers_south_2.patch.iloc[0])\n",
    "print(testing_centers_south_2.patch.iloc[1])\n",
    "print(testing_centers_south_2.patch.iloc[2])\n",
    "print(testing_centers_south_2.patch.iloc[3])\n",
    "print(testing_centers_south_2.patch.iloc[4])\n",
    "print(testing_centers_south_2.patch.iloc[5])\n",
    "print(testing_centers_south_2.patch.iloc[6])\n",
    "print(testing_centers_south_2.patch.iloc[7])\n",
    "print(testing_centers_south_2.patch.iloc[8])\n",
    "print(testing_centers_south_2.patch.iloc[9])"
   ]
  },
  {
   "cell_type": "code",
   "execution_count": 88,
   "metadata": {},
   "outputs": [],
   "source": [
    "#Mass fitting parameters and equations\n",
    "a = 1.3620186928378857  \n",
    "b = 9.968545069745126\n",
    "j= 1.04935943 \n",
    "k = 0.39573094 \n",
    "l = 0.28347756\n",
    "def mass_limit(z):\n",
    "    return np.minimum((a*z + b), 11.2)\n",
    "\n",
    "def mass_coefficient(z):\n",
    "    return np.exp(j*z**2 + k*z + l)\n",
    "\n",
    "#Radii\n",
    "radius = 1\n",
    "small_radius = 0.5\n",
    "mini_radius = 0.1\n",
    "\n",
    "#Buffer (in degrees, from interpolating maximum cluster radius at z = 0.05)\n",
    "buffer = 0.285"
   ]
  },
  {
   "cell_type": "code",
   "execution_count": 89,
   "metadata": {},
   "outputs": [],
   "source": [
    "@dask.delayed\n",
    "def data_import(row2):\n",
    "    fits_data = fitsio.FITS(row2.patch)\n",
    "    sweep = fits_data[1].read(columns=['RELEASE','BRICKID','BRICKNAME', 'OBJID', 'TYPE', 'RA', 'DEC', 'FLUX_G', 'FLUX_R', 'FLUX_Z', 'FLUX_W1', 'MASKBITS', 'GAIA_PHOT_G_MEAN_MAG', 'GAIA_ASTROMETRIC_EXCESS_NOISE'])\n",
    "    with fits.open(row2.photoz) as data:\n",
    "        pz = pd.DataFrame(data[1].data)\n",
    "    mass = np.load(row2.masses)\n",
    "    \n",
    "    pz['mass'] = mass\n",
    "    pz['RELEASE']=sweep['RELEASE']\n",
    "    pz['BRICKID']=sweep['BRICKID']\n",
    "    pz['BRICKNAME']=sweep['BRICKNAME']\n",
    "    pz['OBJID']=sweep['OBJID']\n",
    "    pz['TYPE']=sweep['TYPE']\n",
    "    pz['RA']=sweep['RA']\n",
    "    pz['DEC']=sweep['DEC']\n",
    "    pz['FLUX_G']=sweep['FLUX_G']\n",
    "    pz['FLUX_R']=sweep['FLUX_R']\n",
    "    pz['FLUX_Z']=sweep['FLUX_Z']\n",
    "    pz['FLUX_W1']=sweep['FLUX_W1']\n",
    "    pz['MASKBITS']=sweep['MASKBITS']\n",
    "    pz['gaia_phot_g_mean_mag']=sweep['GAIA_PHOT_G_MEAN_MAG']\n",
    "    pz['gaia_astrometric_excess_noise']=sweep['GAIA_ASTROMETRIC_EXCESS_NOISE']\n",
    "    return pz"
   ]
  },
  {
   "cell_type": "code",
   "execution_count": 91,
   "metadata": {},
   "outputs": [
    {
     "data": {
      "text/html": [
       "<progress style='width:60ex' max='10' value='114'></progress>"
      ],
      "text/plain": [
       "[============================================================================================================================================================================================================================================================================================================================================================================================================================================================================================================================================================================================================================================================================================================] 114/10"
      ]
     },
     "metadata": {},
     "output_type": "display_data"
    }
   ],
   "source": [
    "pbar = display.ProgressBar(len(testing_centers_south_2))\n",
    "pbar.display()\n",
    "\n",
    "list_of_imports = []\n",
    "\n",
    "#Remember to change testing_centers to table_of_centers\n",
    "for index, row in testing_centers_south_2.iterrows():\n",
    "    delayed_import = data_import(row)\n",
    "    list_of_imports.append(delayed_import)\n",
    "    pbar.progress = index + 1\n",
    "    \n",
    "imports = dask.compute(*list_of_imports)\n",
    "ra_dec = pd.concat(imports)"
   ]
  },
  {
   "cell_type": "code",
   "execution_count": 92,
   "metadata": {},
   "outputs": [],
   "source": [
    "zmag=np.array(22.5-2.5*np.log10(ra_dec.FLUX_Z))\n",
    "zmag[np.where(~np.isfinite(zmag))]=99.\n",
    "#whgood=np.where(np.logical_and(zmag < 21,ra_dec.mass > 0 ))\n",
    "isgood=np.logical_and(zmag < 21,ra_dec.mass > 0)\n",
    "ra_dec = ra_dec[isgood]\n",
    "\n",
    "#Further sample cuts\n",
    "ra_dec[\"z_phot_median\"] = ra_dec.Z_PHOT_MEDIAN\n",
    "ra_dec[\"z_phot_std\"] = ra_dec.Z_PHOT_STD\n",
    "ra_dec.drop(columns = [\"Z_PHOT_MEDIAN\", \"Z_PHOT_STD\"])\n",
    "ra_dec = ra_dec[np.logical_or(ra_dec.MASKBITS == 0, ra_dec.MASKBITS == 4096)]\n",
    "ra_dec = ra_dec[np.logical_or(np.logical_or(ra_dec.gaia_phot_g_mean_mag > 19, ra_dec.gaia_astrometric_excess_noise > 10**.5), ra_dec.gaia_astrometric_excess_noise==0)]\n",
    "ra_dec[\"magR\"] = 22.5-2.5*np.log10(ra_dec.FLUX_R)\n",
    "ra_dec[\"magZ\"] = 22.5-2.5*np.log10(ra_dec.FLUX_Z)\n",
    "ra_dec[\"magW1\"] = 22.5-2.5*np.log10(ra_dec.FLUX_W1)\n",
    "l_mask = (ra_dec.magR - ra_dec.magW1) > 1.8*(ra_dec.magR-ra_dec.magZ)-0.6\n",
    "l_mask[~np.isfinite(l_mask)] = False\n",
    "ra_dec = ra_dec[np.logical_and(22.5 - 2.5*np.log10(ra_dec.FLUX_Z)<21, ra_dec.z_phot_median>0.01)]\n",
    "\n",
    "#Coordinates\n",
    "ra_dec[\"RA_r\"] = (np.pi/180)*ra_dec[\"RA\"]\n",
    "ra_dec[\"DEC_r\"] = (np.pi/180)*ra_dec[\"DEC\"]\n",
    "ra_dec[\"gid\"] = np.round(ra_dec.RA, 6)*10**16 + np.round(ra_dec.DEC + 90, 6)*10**6\n",
    "\n",
    "#Oversampling\n",
    "ra_dec.reset_index(inplace = True, drop = True)\n",
    "oversample = 30\n",
    "over = np.array([ra_dec.z_phot_median.values]).T*np.ones((len(ra_dec), oversample))\n",
    "sigma = np.array([ra_dec.z_phot_std.values]).T*np.ones((len(ra_dec), oversample))\n",
    "random = np.random.normal(loc = 0, scale = 1, size = (len(ra_dec), oversample))\n",
    "gauss = over + sigma*random\n",
    "ra_dec[\"gauss_z\"] = pd.Series(list(gauss))\n",
    "\n",
    "#Coordinate transform to prevent zeros\n",
    "ra_dec[\"y\"] = ra_dec[\"DEC_r\"] - np.mean(ra_dec[\"DEC_r\"]) + 50\n",
    "ra_dec[\"x\"] = (ra_dec[\"RA_r\"] - np.mean(ra_dec[\"RA_r\"]))*np.cos(ra_dec[\"DEC_r\"]) + 50"
   ]
  },
  {
   "cell_type": "code",
   "execution_count": 93,
   "metadata": {},
   "outputs": [
    {
     "data": {
      "text/plain": [
       "1874334"
      ]
     },
     "execution_count": 93,
     "metadata": {},
     "output_type": "execute_result"
    }
   ],
   "source": [
    "len(ra_dec)"
   ]
  },
  {
   "cell_type": "code",
   "execution_count": 94,
   "metadata": {},
   "outputs": [
    {
     "name": "stdout",
     "output_type": "stream",
     "text": [
      "<class 'pandas.core.frame.DataFrame'>\n",
      "RangeIndex: 1874334 entries, 0 to 1874333\n",
      "Data columns (total 36 columns):\n",
      "RELEASE                          int16\n",
      "BRICKID                          int32\n",
      "OBJID                            int32\n",
      "Z_PHOT_MEAN                      float32\n",
      "Z_PHOT_MEDIAN                    float32\n",
      "Z_PHOT_STD                       float32\n",
      "Z_PHOT_L68                       float32\n",
      "Z_PHOT_U68                       float32\n",
      "Z_PHOT_L95                       float32\n",
      "Z_PHOT_U95                       float32\n",
      "Z_SPEC                           float32\n",
      "SURVEY                           object\n",
      "TRAINING                         bool\n",
      "mass                             float32\n",
      "BRICKNAME                        |S8\n",
      "TYPE                             |S3\n",
      "RA                               float64\n",
      "DEC                              float64\n",
      "FLUX_G                           float32\n",
      "FLUX_R                           float32\n",
      "FLUX_Z                           float32\n",
      "FLUX_W1                          float32\n",
      "MASKBITS                         int16\n",
      "gaia_phot_g_mean_mag             float32\n",
      "gaia_astrometric_excess_noise    float32\n",
      "z_phot_median                    float32\n",
      "z_phot_std                       float32\n",
      "magR                             float32\n",
      "magZ                             float32\n",
      "magW1                            float32\n",
      "RA_r                             float64\n",
      "DEC_r                            float64\n",
      "gid                              float64\n",
      "gauss_z                          object\n",
      "y                                float64\n",
      "x                                float64\n",
      "dtypes: bool(1), bytes24(1), bytes64(1), float32(20), float64(7), int16(2), int32(2), object(2)\n",
      "memory usage: 575.6 MB\n"
     ]
    }
   ],
   "source": [
    "ra_dec.info(memory_usage = \"deep\")"
   ]
  },
  {
   "cell_type": "code",
   "execution_count": 95,
   "metadata": {},
   "outputs": [],
   "source": [
    "cos = Cos(H0 = 70, Om0 = .286, Ode0 = .714)\n",
    "z_array = np.linspace(1e-2, ra_dec.z_phot_median.max(), 500)\n",
    "sparse_radius = (1+z_array)/(cos.comoving_distance(z_array))\n",
    "radius_threshold = interp1d(z_array, sparse_radius, kind = \"linear\", fill_value = \"extrapolate\")"
   ]
  },
  {
   "cell_type": "code",
   "execution_count": 96,
   "metadata": {},
   "outputs": [
    {
     "data": {
      "image/png": "[encoded data removed]",
      "text/plain": [
       "<matplotlib.figure.Figure at 0x2aab5f96a470>"
      ]
     },
     "metadata": {
      "needs_background": "light"
     },
     "output_type": "display_data"
    }
   ],
   "source": [
    "plt.plot(np.linspace(0, 2, 10000), radius_threshold(np.linspace(0, 2, 10000)), \"-\", lw = 3)\n",
    "plt.title(\"Radius as a function of redshift\", fontsize = 15)\n",
    "plt.ylabel(\"Radius (angular coordinates)\", fontsize = 12)\n",
    "plt.xlabel(\"Redshift (z)\", fontsize = 12)\n",
    "string = r\"$r = \\frac{1+z}{comoving(z)}$\"\n",
    "plt.text(0.4, 0.03, s = string, fontsize = 30)\n",
    "plt.show()"
   ]
  },
  {
   "cell_type": "code",
   "execution_count": 14,
   "metadata": {},
   "outputs": [],
   "source": [
    "radius_df = pd.DataFrame(np.array([z_array, sparse_radius]).T, columns = [\"z\", \"radius\"])\n",
    "radius = Table.from_pandas(radius_df)\n",
    "radius.write('radius_training_north.fits', format = 'fits')"
   ]
  },
  {
   "cell_type": "code",
   "execution_count": 51,
   "metadata": {},
   "outputs": [],
   "source": [
    "hdul = fits.open(\"radius_training_north.fits\")  # open a FITS file\n",
    "data = hdul[1].data"
   ]
  },
  {
   "cell_type": "code",
   "execution_count": 52,
   "metadata": {},
   "outputs": [],
   "source": [
    "hdul = fits.open(\"radius_training.fits\")  # open a FITS file\n",
    "data2 = hdul[1].data"
   ]
  },
  {
   "cell_type": "code",
   "execution_count": 53,
   "metadata": {},
   "outputs": [
    {
     "data": {
      "image/png": "[encoded data removed]",
      "text/plain": [
       "<Figure size 720x720 with 1 Axes>"
      ]
     },
     "metadata": {
      "needs_background": "light"
     },
     "output_type": "display_data"
    }
   ],
   "source": [
    "plt.figure(figsize = (10, 10))\n",
    "plt.plot(data.z, data.radius, \".\", label = \"north\")\n",
    "plt.plot(data2.z, data2.radius, \".\", label = \"south\")\n",
    "plt.title(\"Radius as a function of redshift\", fontsize = 15)\n",
    "plt.ylabel(\"Radius (angular coordinates)\", fontsize = 12)\n",
    "plt.xlabel(\"Redshift (z)\", fontsize = 12)\n",
    "string = r\"$r = \\frac{1+z}{comoving(z)}$\"\n",
    "plt.text(0.5, 0.015, s = string, fontsize = 30)\n",
    "plt.legend()\n",
    "plt.show()"
   ]
  },
  {
   "cell_type": "code",
   "execution_count": 97,
   "metadata": {},
   "outputs": [],
   "source": [
    "median = stats.binned_statistic(ra_dec.z_phot_median, ra_dec.z_phot_std, \"median\", bins = np.linspace(0.05, ra_dec.z_phot_median.max(), 100))\n",
    "bins = np.linspace(0.05, ra_dec.z_phot_median.max(), 99)\n",
    "z_threshold = interp1d(bins, np.minimum(median[0], np.ones(len(median[0]))*0.1), kind = \"linear\", fill_value = \"extrapolate\")"
   ]
  },
  {
   "cell_type": "code",
   "execution_count": 98,
   "metadata": {},
   "outputs": [
    {
     "data": {
      "image/png": "[encoded data removed]",
      "text/plain": [
       "<matplotlib.figure.Figure at 0x2aabbc0ee080>"
      ]
     },
     "metadata": {
      "needs_background": "light"
     },
     "output_type": "display_data"
    }
   ],
   "source": [
    "plt.plot(ra_dec.z_phot_median, 2*z_threshold(ra_dec.z_phot_median), \".\")\n",
    "plt.xlim(0, 2)\n",
    "plt.ylim(0, 0.4)\n",
    "plt.title(\"Interpolated Z half length as a function of redshift\",  fontsize = 12)\n",
    "plt.ylabel(\"Z length ($L_z$)\",  fontsize = 12)\n",
    "plt.xlabel(\"Redshift (z)\",  fontsize = 12)\n",
    "string = r\"$L_z = 2* mean(\\sigma_z)$ over 100 bins\"\n",
    "plt.text(0.3, 0.3, s = string, fontsize = 15)\n",
    "plt.show()"
   ]
  },
  {
   "cell_type": "code",
   "execution_count": 31,
   "metadata": {},
   "outputs": [],
   "source": [
    "threshold_df = pd.DataFrame(np.array([bins, np.minimum(median[0], np.ones(len(median[0]))*0.1)]).T, columns = [\"z\", \"sigma_z_threshold\"])\n",
    "threshold = Table.from_pandas(threshold_df)\n",
    "threshold.write('threshold_training_south.fits', format = 'fits')"
   ]
  },
  {
   "cell_type": "code",
   "execution_count": 32,
   "metadata": {},
   "outputs": [],
   "source": [
    "hdul = fits.open(\"threshold_training_north.fits\")  # open a FITS file\n",
    "data = hdul[1].data"
   ]
  },
  {
   "cell_type": "code",
   "execution_count": 33,
   "metadata": {},
   "outputs": [],
   "source": [
    "hdul = fits.open(\"threshold_training_south.fits\")  # open a FITS file\n",
    "data2 = hdul[1].data"
   ]
  },
  {
   "cell_type": "code",
   "execution_count": 34,
   "metadata": {},
   "outputs": [
    {
     "data": {
      "image/png": "[encoded data removed]",
      "text/plain": [
       "<matplotlib.figure.Figure at 0x2aab46ca3ac8>"
      ]
     },
     "metadata": {
      "needs_background": "light"
     },
     "output_type": "display_data"
    }
   ],
   "source": [
    "plt.figure(figsize = (10, 10))\n",
    "plt.plot(data.z, 2*data.sigma_z_threshold, \".\", label = \"north\")\n",
    "plt.plot(data2.z, 2*data2.sigma_z_threshold, \".\", label = \"south\")\n",
    "plt.xlim(0, 2)\n",
    "plt.ylim(0, 0.4)\n",
    "plt.title(\"Interpolated Z half length as a function of redshift\",  fontsize = 12)\n",
    "plt.ylabel(\"Z length ($L_z$)\",  fontsize = 12)\n",
    "plt.xlabel(\"Redshift (z)\",  fontsize = 12)\n",
    "string = r\"$L_z = 2* mean(\\sigma_z)$ over 100 bins\"\n",
    "plt.text(0.3, 0.3, s = string, fontsize = 15)\n",
    "plt.legend(loc = \"lower right\")\n",
    "plt.show()"
   ]
  },
  {
   "cell_type": "code",
   "execution_count": 99,
   "metadata": {},
   "outputs": [],
   "source": [
    "massive_sample = ra_dec[ra_dec.mass > 11.2].copy()\n",
    "massive_sample[\"neighbors\"] = np.zeros(len(massive_sample))\n",
    "massive_sample[\"local_neighbors\"] = np.zeros(len(massive_sample))\n",
    "massive_sample.reset_index(inplace=True, drop = True)"
   ]
  },
  {
   "cell_type": "code",
   "execution_count": 100,
   "metadata": {},
   "outputs": [
    {
     "data": {
      "text/plain": [
       "173106"
      ]
     },
     "execution_count": 100,
     "metadata": {},
     "output_type": "execute_result"
    }
   ],
   "source": [
    "len(massive_sample)"
   ]
  },
  {
   "cell_type": "code",
   "execution_count": 101,
   "metadata": {},
   "outputs": [],
   "source": [
    "tree = spatial.cKDTree(ra_dec[[\"x\", \"y\"]], copy_data = True)"
   ]
  },
  {
   "cell_type": "code",
   "execution_count": 102,
   "metadata": {},
   "outputs": [],
   "source": [
    "radius = 1\n",
    "small_radius = 0.5\n",
    "mini_radius = 0.1\n",
    "\n",
    "indexable = ra_dec[[\"z_phot_median\", \"x\", \"y\", \"mass\", \"gauss_z\", \"gid\", \"z_phot_std\"]].values.copy()\n",
    "iterrator = massive_sample.copy()"
   ]
  },
  {
   "cell_type": "code",
   "execution_count": 103,
   "metadata": {},
   "outputs": [
    {
     "data": {
      "text/plain": [
       "173106"
      ]
     },
     "execution_count": 103,
     "metadata": {},
     "output_type": "execute_result"
    }
   ],
   "source": [
    "len(iterrator)"
   ]
  },
  {
   "cell_type": "code",
   "execution_count": 104,
   "metadata": {},
   "outputs": [
    {
     "data": {
      "text/html": [
       "<progress style='width:60ex' max='173105' value='173105'></progress>"
      ],
      "text/plain": [
       "[============================================================] 173105/173105"
      ]
     },
     "metadata": {},
     "output_type": "display_data"
    }
   ],
   "source": [
    "pbar = display.ProgressBar(len(massive_sample)-1)\n",
    "pbar.display()\n",
    "for i, row in iterrator.iterrows():\n",
    "    neighbors = tree.query_ball_point([row.x, row.y], radius_threshold(row.z_phot_median))\n",
    "    if len(neighbors) > 0:\n",
    "        local_data = indexable[neighbors]\n",
    "        \n",
    "        z_c = z_threshold(row.z_phot_median)\n",
    "        cylinder = np.abs(np.vstack(local_data[:, 4]) - row.z_phot_median)\n",
    "        weight_array = cylinder < 2*z_c\n",
    "        weights = weight_array.sum(axis = 1)/oversample\n",
    "        \n",
    "        approx_cluster = np.append(local_data, np.reshape(weights, newshape = (len(weights), 1)), axis = 1)\n",
    "        cluster = approx_cluster[approx_cluster[:, -1] > 0]\n",
    "        \n",
    "        r_smaller = radius_threshold(row.z_phot_median)\n",
    "        small_cluster = cluster[np.sqrt(np.array((cluster[:, 1] - row.x)**2 + (cluster[:, 2] - row.y)**2).astype(float)) < small_radius*r_smaller]\n",
    "        mini_cluster = cluster[np.sqrt(np.array((cluster[:, 1] - row.x)**2 + (cluster[:, 2] - row.y)**2).astype(float)) < mini_radius*r_smaller]\n",
    "        \n",
    "        massive_sample.at[i, \"neighbors\"] = np.sum(cluster[:, -1])\n",
    "        massive_sample.at[i, \"local_neighbors\"] = np.sum(small_cluster[:, -1])\n",
    "        \n",
    "    \n",
    "    pbar.progress = i"
   ]
  },
  {
   "cell_type": "code",
   "execution_count": 105,
   "metadata": {},
   "outputs": [],
   "source": [
    "bins = np.arange(0.05, massive_sample.z_phot_median.max(), 0.01)\n",
    "binned = [massive_sample[np.logical_and(massive_sample.z_phot_median>=i-.025, massive_sample.z_phot_median<=i+.025)].copy() for i in bins]\n",
    "clusters = pd.DataFrame()\n",
    "threshold1 = np.empty(len(binned))\n",
    "threshold2 = np.empty(len(binned))\n",
    "for i in range(len(binned)):\n",
    "    threshold1[i] = np.mean(binned[i].neighbors) + 1.8*np.sqrt(np.mean(binned[i].neighbors))\n",
    "    threshold2[i] = np.mean(binned[i].local_neighbors) + 1.2*np.sqrt(np.mean(binned[i].local_neighbors))"
   ]
  },
  {
   "cell_type": "code",
   "execution_count": 106,
   "metadata": {},
   "outputs": [],
   "source": [
    "thresh1 = interp1d(bins, threshold1, kind = \"linear\", fill_value = \"extrapolate\")\n",
    "thresh2 = interp1d(bins, threshold2, kind = \"linear\", fill_value = \"extrapolate\")"
   ]
  },
  {
   "cell_type": "code",
   "execution_count": 107,
   "metadata": {},
   "outputs": [
    {
     "data": {
      "text/html": [
       "<div>\n",
       "<style scoped>\n",
       "    .dataframe tbody tr th:only-of-type {\n",
       "        vertical-align: middle;\n",
       "    }\n",
       "\n",
       "    .dataframe tbody tr th {\n",
       "        vertical-align: top;\n",
       "    }\n",
       "\n",
       "    .dataframe thead th {\n",
       "        text-align: right;\n",
       "    }\n",
       "</style>\n",
       "<table border=\"1\" class=\"dataframe\">\n",
       "  <thead>\n",
       "    <tr style=\"text-align: right;\">\n",
       "      <th></th>\n",
       "      <th>RELEASE</th>\n",
       "      <th>BRICKID</th>\n",
       "      <th>OBJID</th>\n",
       "      <th>Z_PHOT_MEAN</th>\n",
       "      <th>Z_PHOT_MEDIAN</th>\n",
       "      <th>Z_PHOT_STD</th>\n",
       "      <th>Z_PHOT_L68</th>\n",
       "      <th>Z_PHOT_U68</th>\n",
       "      <th>Z_PHOT_L95</th>\n",
       "      <th>Z_PHOT_U95</th>\n",
       "      <th>...</th>\n",
       "      <th>magZ</th>\n",
       "      <th>magW1</th>\n",
       "      <th>RA_r</th>\n",
       "      <th>DEC_r</th>\n",
       "      <th>gid</th>\n",
       "      <th>gauss_z</th>\n",
       "      <th>y</th>\n",
       "      <th>x</th>\n",
       "      <th>neighbors</th>\n",
       "      <th>local_neighbors</th>\n",
       "    </tr>\n",
       "  </thead>\n",
       "  <tbody>\n",
       "    <tr>\n",
       "      <th>164477</th>\n",
       "      <td>9010</td>\n",
       "      <td>55610</td>\n",
       "      <td>8296</td>\n",
       "      <td>0.022018</td>\n",
       "      <td>0.021281</td>\n",
       "      <td>0.004456</td>\n",
       "      <td>0.018987</td>\n",
       "      <td>0.025929</td>\n",
       "      <td>0.016097</td>\n",
       "      <td>0.033467</td>\n",
       "      <td>...</td>\n",
       "      <td>11.608229</td>\n",
       "      <td>12.021848</td>\n",
       "      <td>5.265797</td>\n",
       "      <td>-0.984190</td>\n",
       "      <td>3.017079e+18</td>\n",
       "      <td>[0.025587438547469307, 0.019469561587128516, 0...</td>\n",
       "      <td>49.026010</td>\n",
       "      <td>51.720284</td>\n",
       "      <td>993.333333</td>\n",
       "      <td>320.466667</td>\n",
       "    </tr>\n",
       "    <tr>\n",
       "      <th>138134</th>\n",
       "      <td>9010</td>\n",
       "      <td>485713</td>\n",
       "      <td>343</td>\n",
       "      <td>0.014155</td>\n",
       "      <td>0.013689</td>\n",
       "      <td>0.004381</td>\n",
       "      <td>0.009999</td>\n",
       "      <td>0.018135</td>\n",
       "      <td>0.007143</td>\n",
       "      <td>0.022620</td>\n",
       "      <td>...</td>\n",
       "      <td>11.544753</td>\n",
       "      <td>12.011839</td>\n",
       "      <td>0.666121</td>\n",
       "      <td>0.489914</td>\n",
       "      <td>3.816595e+17</td>\n",
       "      <td>[0.01574710593805176, 0.016380626865910207, 0....</td>\n",
       "      <td>50.500114</td>\n",
       "      <td>48.683608</td>\n",
       "      <td>988.733333</td>\n",
       "      <td>240.600000</td>\n",
       "    </tr>\n",
       "    <tr>\n",
       "      <th>168774</th>\n",
       "      <td>9010</td>\n",
       "      <td>58854</td>\n",
       "      <td>2710</td>\n",
       "      <td>0.017600</td>\n",
       "      <td>0.017774</td>\n",
       "      <td>0.003376</td>\n",
       "      <td>0.013718</td>\n",
       "      <td>0.020825</td>\n",
       "      <td>0.011497</td>\n",
       "      <td>0.023791</td>\n",
       "      <td>...</td>\n",
       "      <td>12.159399</td>\n",
       "      <td>12.531728</td>\n",
       "      <td>5.273634</td>\n",
       "      <td>-0.967849</td>\n",
       "      <td>3.021570e+18</td>\n",
       "      <td>[0.013871515027862519, 0.017377361464824586, 0...</td>\n",
       "      <td>49.042351</td>\n",
       "      <td>51.766792</td>\n",
       "      <td>882.566667</td>\n",
       "      <td>272.366667</td>\n",
       "    </tr>\n",
       "    <tr>\n",
       "      <th>46966</th>\n",
       "      <td>9010</td>\n",
       "      <td>337098</td>\n",
       "      <td>1516</td>\n",
       "      <td>0.023808</td>\n",
       "      <td>0.023535</td>\n",
       "      <td>0.003851</td>\n",
       "      <td>0.020345</td>\n",
       "      <td>0.027221</td>\n",
       "      <td>0.017107</td>\n",
       "      <td>0.030306</td>\n",
       "      <td>...</td>\n",
       "      <td>12.742308</td>\n",
       "      <td>13.107356</td>\n",
       "      <td>4.233488</td>\n",
       "      <td>0.018425</td>\n",
       "      <td>2.425610e+18</td>\n",
       "      <td>[0.01724525750206822, 0.031038593205989114, 0....</td>\n",
       "      <td>50.028626</td>\n",
       "      <td>52.075138</td>\n",
       "      <td>651.100000</td>\n",
       "      <td>181.966667</td>\n",
       "    </tr>\n",
       "    <tr>\n",
       "      <th>165333</th>\n",
       "      <td>9010</td>\n",
       "      <td>52450</td>\n",
       "      <td>7710</td>\n",
       "      <td>0.017969</td>\n",
       "      <td>0.017719</td>\n",
       "      <td>0.005462</td>\n",
       "      <td>0.012766</td>\n",
       "      <td>0.023148</td>\n",
       "      <td>0.010087</td>\n",
       "      <td>0.030407</td>\n",
       "      <td>...</td>\n",
       "      <td>11.738894</td>\n",
       "      <td>12.129835</td>\n",
       "      <td>5.255918</td>\n",
       "      <td>-1.005277</td>\n",
       "      <td>3.011419e+18</td>\n",
       "      <td>[0.017930866100865764, 0.022190172509850496, 0...</td>\n",
       "      <td>49.004923</td>\n",
       "      <td>51.660033</td>\n",
       "      <td>613.300000</td>\n",
       "      <td>195.533333</td>\n",
       "    </tr>\n",
       "  </tbody>\n",
       "</table>\n",
       "<p>5 rows × 38 columns</p>\n",
       "</div>"
      ],
      "text/plain": [
       "        RELEASE  BRICKID  OBJID  Z_PHOT_MEAN  Z_PHOT_MEDIAN  Z_PHOT_STD  \\\n",
       "164477     9010    55610   8296     0.022018       0.021281    0.004456   \n",
       "138134     9010   485713    343     0.014155       0.013689    0.004381   \n",
       "168774     9010    58854   2710     0.017600       0.017774    0.003376   \n",
       "46966      9010   337098   1516     0.023808       0.023535    0.003851   \n",
       "165333     9010    52450   7710     0.017969       0.017719    0.005462   \n",
       "\n",
       "        Z_PHOT_L68  Z_PHOT_U68  Z_PHOT_L95  Z_PHOT_U95  ...       magZ  \\\n",
       "164477    0.018987    0.025929    0.016097    0.033467  ...  11.608229   \n",
       "138134    0.009999    0.018135    0.007143    0.022620  ...  11.544753   \n",
       "168774    0.013718    0.020825    0.011497    0.023791  ...  12.159399   \n",
       "46966     0.020345    0.027221    0.017107    0.030306  ...  12.742308   \n",
       "165333    0.012766    0.023148    0.010087    0.030407  ...  11.738894   \n",
       "\n",
       "            magW1      RA_r     DEC_r           gid  \\\n",
       "164477  12.021848  5.265797 -0.984190  3.017079e+18   \n",
       "138134  12.011839  0.666121  0.489914  3.816595e+17   \n",
       "168774  12.531728  5.273634 -0.967849  3.021570e+18   \n",
       "46966   13.107356  4.233488  0.018425  2.425610e+18   \n",
       "165333  12.129835  5.255918 -1.005277  3.011419e+18   \n",
       "\n",
       "                                                  gauss_z          y  \\\n",
       "164477  [0.025587438547469307, 0.019469561587128516, 0...  49.026010   \n",
       "138134  [0.01574710593805176, 0.016380626865910207, 0....  50.500114   \n",
       "168774  [0.013871515027862519, 0.017377361464824586, 0...  49.042351   \n",
       "46966   [0.01724525750206822, 0.031038593205989114, 0....  50.028626   \n",
       "165333  [0.017930866100865764, 0.022190172509850496, 0...  49.004923   \n",
       "\n",
       "                x   neighbors  local_neighbors  \n",
       "164477  51.720284  993.333333       320.466667  \n",
       "138134  48.683608  988.733333       240.600000  \n",
       "168774  51.766792  882.566667       272.366667  \n",
       "46966   52.075138  651.100000       181.966667  \n",
       "165333  51.660033  613.300000       195.533333  \n",
       "\n",
       "[5 rows x 38 columns]"
      ]
     },
     "execution_count": 107,
     "metadata": {},
     "output_type": "execute_result"
    }
   ],
   "source": [
    "massive_sample.sort_values(\"neighbors\", ascending = False).head()"
   ]
  },
  {
   "cell_type": "code",
   "execution_count": 108,
   "metadata": {},
   "outputs": [
    {
     "data": {
      "image/png": "[encoded data removed]",
      "text/plain": [
       "<matplotlib.figure.Figure at 0x2aab9846ceb8>"
      ]
     },
     "metadata": {
      "needs_background": "light"
     },
     "output_type": "display_data"
    }
   ],
   "source": [
    "graph1 = thresh1(massive_sample.z_phot_median)\n",
    "graph2 = thresh2(massive_sample.z_phot_median)\n",
    "plt.plot(massive_sample.z_phot_median, graph1, \".\")\n",
    "plt.plot(massive_sample.z_phot_median, graph2, \".\")\n",
    "plt.show()"
   ]
  },
  {
   "cell_type": "code",
   "execution_count": 109,
   "metadata": {},
   "outputs": [],
   "source": [
    "threshold_df = pd.DataFrame(np.array([bins, threshold1, threshold2]).T, columns = [\"z\", \"neighbor_threshold1\", \"neighbor_threshold2\"])\n",
    "threshold = Table.from_pandas(threshold_df)\n",
    "threshold.write('neighbor_training_south_2.fits', format = 'fits')"
   ]
  },
  {
   "cell_type": "code",
   "execution_count": 110,
   "metadata": {},
   "outputs": [],
   "source": [
    "hdul = fits.open(\"neighbor_training_north.fits\")  # open a FITS file\n",
    "data = hdul[1].data"
   ]
  },
  {
   "cell_type": "code",
   "execution_count": 111,
   "metadata": {},
   "outputs": [],
   "source": [
    "hdul = fits.open(\"neighbor_training_south.fits\")  # open a FITS file\n",
    "data2 = hdul[1].data"
   ]
  },
  {
   "cell_type": "code",
   "execution_count": 112,
   "metadata": {},
   "outputs": [],
   "source": [
    "hdul = fits.open(\"neighbor_training_south_2.fits\")  # open a FITS file\n",
    "data3 = hdul[1].data"
   ]
  },
  {
   "cell_type": "code",
   "execution_count": 115,
   "metadata": {},
   "outputs": [
    {
     "data": {
      "image/png": "[encoded data removed]",
      "text/plain": [
       "<matplotlib.figure.Figure at 0x2aaba50bef28>"
      ]
     },
     "metadata": {
      "needs_background": "light"
     },
     "output_type": "display_data"
    }
   ],
   "source": [
    "\n",
    "plt.figure(figsize = (12, 12))\n",
    "plt.plot(data.z, data.neighbor_threshold1, \".r\", label = \"north\")\n",
    "plt.plot(data.z, data.neighbor_threshold2, \".r\", label = \"north\")\n",
    "plt.plot(data2.z, data2.neighbor_threshold1, \".g\", label = \"south\")\n",
    "plt.plot(data2.z, data2.neighbor_threshold2, \".g\", label = \"south\")\n",
    "plt.plot(data3.z, data3.neighbor_threshold1, \".b\", label = \"south2\")\n",
    "plt.plot(data3.z, data3.neighbor_threshold2, \".b\", label = \"south2\")\n",
    "plt.ylim(0, 200)\n",
    "#plt.xlim(0, 2.5)\n",
    "plt.legend()\n",
    "plt.show()"
   ]
  },
  {
   "cell_type": "code",
   "execution_count": null,
   "metadata": {},
   "outputs": [],
   "source": []
  }
 ],
 "metadata": {
  "kernelspec": {
   "display_name": "DESI 19.10",
   "language": "python",
   "name": "desi-19.10"
  },
  "language_info": {
   "codemirror_mode": {
    "name": "ipython",
    "version": 3
   },
   "file_extension": ".py",
   "mimetype": "text/x-python",
   "name": "python",
   "nbconvert_exporter": "python",
   "pygments_lexer": "ipython3",
   "version": "3.6.6"
  }
 },
 "nbformat": 4,
 "nbformat_minor": 5
}

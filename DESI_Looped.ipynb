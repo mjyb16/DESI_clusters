{
 "cells": [
  {
   "cell_type": "code",
   "execution_count": 1,
   "metadata": {},
   "outputs": [],
   "source": [
    "import pandas as pd\n",
    "import numpy as np\n",
    "from scipy import spatial\n",
    "from astropy.table import Table\n",
    "from astropy.cosmology import LambdaCDM as Cos\n",
    "import matplotlib.pyplot as plt\n",
    "from IPython import display \n",
    "import scipy\n",
    "\n",
    "import pickle\n",
    "import dask"
   ]
  },
  {
   "cell_type": "code",
   "execution_count": 19,
   "metadata": {},
   "outputs": [
    {
     "data": {
      "text/html": [
       "<table style=\"border: 2px solid white;\">\n",
       "<tr>\n",
       "<td style=\"vertical-align: top; border: 0px solid white\">\n",
       "<h3 style=\"text-align: left;\">Client</h3>\n",
       "<ul style=\"text-align: left; list-style: none; margin: 0; padding: 0;\">\n",
       "  <li><b>Scheduler: </b>tcp://127.0.0.1:42105</li>\n",
       "  <li><b>Dashboard: </b><a href='http://127.0.0.1:37859/status' target='_blank'>http://127.0.0.1:37859/status</a>\n",
       "</ul>\n",
       "</td>\n",
       "<td style=\"vertical-align: top; border: 0px solid white\">\n",
       "<h3 style=\"text-align: left;\">Cluster</h3>\n",
       "<ul style=\"text-align: left; list-style:none; margin: 0; padding: 0;\">\n",
       "  <li><b>Workers: </b>16</li>\n",
       "  <li><b>Cores: </b>64</li>\n",
       "  <li><b>Memory: </b>540.15 GB</li>\n",
       "</ul>\n",
       "</td>\n",
       "</tr>\n",
       "</table>"
      ],
      "text/plain": [
       "<Client: 'tcp://127.0.0.1:42105' processes=16 threads=64, memory=540.15 GB>"
      ]
     },
     "execution_count": 19,
     "metadata": {},
     "output_type": "execute_result"
    }
   ],
   "source": [
    "from dask.distributed import Client, LocalCluster\n",
    "cluster = LocalCluster(n_workers = 16)\n",
    "client = Client(cluster)\n",
    "client"
   ]
  },
  {
   "cell_type": "code",
   "execution_count": 3,
   "metadata": {},
   "outputs": [],
   "source": [
    "#client.upload_file(scipy)"
   ]
  },
  {
   "cell_type": "code",
   "execution_count": 3,
   "metadata": {},
   "outputs": [],
   "source": [
    "#Load Data\n",
    "with open(\"sweep-000m005-010p000_trim.pkl\", \"rb\") as f:\n",
    "    ra_dec = pickle.load(f)"
   ]
  },
  {
   "cell_type": "code",
   "execution_count": 4,
   "metadata": {},
   "outputs": [
    {
     "name": "stderr",
     "output_type": "stream",
     "text": [
      "/global/homes/m/mjyb16/.conda/envs/desi_dask/lib/python3.7/site-packages/ipykernel_launcher.py:23: SettingWithCopyWarning: \n",
      "A value is trying to be set on a copy of a slice from a DataFrame.\n",
      "Try using .loc[row_indexer,col_indexer] = value instead\n",
      "\n",
      "See the caveats in the documentation: https://pandas.pydata.org/pandas-docs/stable/user_guide/indexing.html#returning-a-view-versus-a-copy\n",
      "/global/homes/m/mjyb16/.conda/envs/desi_dask/lib/python3.7/site-packages/ipykernel_launcher.py:24: SettingWithCopyWarning: \n",
      "A value is trying to be set on a copy of a slice from a DataFrame.\n",
      "Try using .loc[row_indexer,col_indexer] = value instead\n",
      "\n",
      "See the caveats in the documentation: https://pandas.pydata.org/pandas-docs/stable/user_guide/indexing.html#returning-a-view-versus-a-copy\n",
      "/global/homes/m/mjyb16/.conda/envs/desi_dask/lib/python3.7/site-packages/ipykernel_launcher.py:25: SettingWithCopyWarning: \n",
      "A value is trying to be set on a copy of a slice from a DataFrame.\n",
      "Try using .loc[row_indexer,col_indexer] = value instead\n",
      "\n",
      "See the caveats in the documentation: https://pandas.pydata.org/pandas-docs/stable/user_guide/indexing.html#returning-a-view-versus-a-copy\n",
      "/global/homes/m/mjyb16/.conda/envs/desi_dask/lib/python3.7/site-packages/ipykernel_launcher.py:28: SettingWithCopyWarning: \n",
      "A value is trying to be set on a copy of a slice from a DataFrame.\n",
      "Try using .loc[row_indexer,col_indexer] = value instead\n",
      "\n",
      "See the caveats in the documentation: https://pandas.pydata.org/pandas-docs/stable/user_guide/indexing.html#returning-a-view-versus-a-copy\n",
      "/global/homes/m/mjyb16/.conda/envs/desi_dask/lib/python3.7/site-packages/ipykernel_launcher.py:29: SettingWithCopyWarning: \n",
      "A value is trying to be set on a copy of a slice from a DataFrame.\n",
      "Try using .loc[row_indexer,col_indexer] = value instead\n",
      "\n",
      "See the caveats in the documentation: https://pandas.pydata.org/pandas-docs/stable/user_guide/indexing.html#returning-a-view-versus-a-copy\n",
      "/global/homes/m/mjyb16/.conda/envs/desi_dask/lib/python3.7/site-packages/ipykernel_launcher.py:30: SettingWithCopyWarning: \n",
      "A value is trying to be set on a copy of a slice from a DataFrame.\n",
      "Try using .loc[row_indexer,col_indexer] = value instead\n",
      "\n",
      "See the caveats in the documentation: https://pandas.pydata.org/pandas-docs/stable/user_guide/indexing.html#returning-a-view-versus-a-copy\n"
     ]
    }
   ],
   "source": [
    "#Basic cuts and conversion to radians\n",
    "#ra_dec = dd.from_pandas(ra_dec0)\n",
    "ra_dec = ra_dec[np.logical_and(22.5 - 2.5*np.log10(ra_dec.FLUX_Z)<21, ra_dec.z_phot_median>0.1)]\n",
    "ra_dec[\"RA_r\"] = (np.pi/180)*ra_dec[\"RA\"]\n",
    "ra_dec[\"DEC_r\"] = (np.pi/180)*ra_dec[\"DEC\"]\n",
    "\n",
    "#Oversampling\n",
    "oversample = 1\n",
    "gauss = ra_dec.sample(n = int(oversample*len(ra_dec)), replace = True)\n",
    "random1 = np.random.normal(loc = 0, scale = 1, size = int(oversample*len(ra_dec)))\n",
    "gauss[\"z_phot_median\"] = gauss[\"z_phot_median\"] + random1*gauss[\"z_phot_std\"]\n",
    "\n",
    "#Binning by redshift\n",
    "bins = np.arange(0.1, ra_dec.z_phot_median.max(), 0.01)\n",
    "binned = [ra_dec[np.logical_and(ra_dec.z_phot_median>=i-.03, ra_dec.z_phot_median<=i+.03)] for i in bins]\n",
    "bins_g = np.arange(0.1, ra_dec.z_phot_median.max(), 0.01)\n",
    "binned_g = [gauss[np.logical_and(gauss.z_phot_median>=i-.03, gauss.z_phot_median<=i+.03)] for i in bins]\n",
    "\n",
    "#Cartesian coordinates\n",
    "cos = Cos(H0 = 70, Om0 = .286, Ode0 = .714)\n",
    "for i in range(0, len(binned)):\n",
    "    mean = binned[i].z_phot_median.mean()\n",
    "    binned[i][\"z\"] = cos.comoving_distance(mean)*np.ones(len(binned[i]))\n",
    "    binned[i][\"y\"] = cos.comoving_distance(mean)*binned[i][\"DEC_r\"]\n",
    "    binned[i][\"x\"] = cos.comoving_distance(mean)*binned[i][\"RA_r\"]*np.cos(binned[i][\"DEC_r\"])\n",
    "for i in range(0, len(binned_g)):\n",
    "    mean = binned[i].z_phot_median.mean()\n",
    "    binned_g[i][\"z\"] = cos.comoving_distance(mean)*np.ones(len(binned_g[i]))\n",
    "    binned_g[i][\"y\"] = cos.comoving_distance(mean)*binned_g[i][\"DEC_r\"]\n",
    "    binned_g[i][\"x\"] = cos.comoving_distance(mean)*binned_g[i][\"RA_r\"]*np.cos(binned_g[i][\"DEC_r\"])"
   ]
  },
  {
   "cell_type": "code",
   "execution_count": 5,
   "metadata": {},
   "outputs": [],
   "source": [
    "def clusters_dist(binned, binned_g, b):\n",
    "    sample_real = binned[b]\n",
    "    massive_sample = sample_real[sample_real.mass>11]\n",
    "    if len(massive_sample)>0:\n",
    "        massive_tree = spatial.cKDTree(massive_sample[[\"x\", \"y\"]])\n",
    "        sample = binned_g[b]\n",
    "        tree = spatial.cKDTree(sample[[\"x\", \"y\"]])\n",
    "        \n",
    "        r = 2\n",
    "        neighbors = massive_tree.query_ball_tree(tree, r)\n",
    "        counts = np.array([])\n",
    "        for i in range(0, len(neighbors)):\n",
    "            counts = np.append(counts, len(neighbors[i]))\n",
    "        \n",
    "        sample.reset_index(inplace=True)\n",
    "        massive_sample.reset_index(inplace=True)\n",
    "        massive_sample[\"neighbor_numbers\"] = pd.Series(neighbors)\n",
    "        massive_sample[\"neighbors\"] = pd.Series(counts)\n",
    "        \n",
    "        masses = 10**sample.mass\n",
    "        massive_sample[\"neighbor_mass\"] = np.zeros(len(massive_sample))\n",
    "        for i in range (0, len(massive_sample)):\n",
    "            massive_sample[\"neighbor_mass\"][i] = np.log10(np.sum(masses[massive_sample.neighbor_numbers[i]]))\n",
    "        \n",
    "        reds = sample.z_phot_median\n",
    "        massive_sample[\"mean_red\"] = np.zeros(len(massive_sample))\n",
    "        for i in range (0, len(massive_sample)):\n",
    "            massive_sample[\"mean_red\"][i] = np.mean(reds[massive_sample.neighbor_numbers[i]])\n",
    "        \n",
    "        massive_sample[\"med_red\"] = np.zeros(len(massive_sample))\n",
    "        for i in range (0, len(massive_sample)):\n",
    "            massive_sample[\"med_red\"][i] = np.median(reds[massive_sample.neighbor_numbers[i]])\n",
    "            \n",
    "        clusters = massive_sample[massive_sample.neighbors>5]\n",
    "        \n",
    "        if len(clusters)>0:\n",
    "            cluster_tree = spatial.cKDTree(clusters[[\"x\", \"y\"]])\n",
    "            cluster_tree2 = spatial.cKDTree(clusters[[\"x\", \"y\"]].copy())\n",
    "            r = 2\n",
    "            neighbors_c = cluster_tree.query_ball_tree(cluster_tree2, r)\n",
    "            clusters.reset_index(inplace= True)\n",
    "            clusters.drop(columns = [\"neighbor_numbers\"])\n",
    "            clusters[\"neighbor_numbers\"] = pd.Series(neighbors_c)\n",
    "            \n",
    "            clusters.sort_values(\"mass\", inplace = True)\n",
    "            clusters[\"ncluster\"] = np.zeros(len(clusters))\n",
    "            sample[\"ncluster\"] = np.zeros(len(sample))\n",
    "            clusternum = 1\n",
    "            \n",
    "            for index, gal in clusters.iterrows():\n",
    "                if gal.ncluster == 0:\n",
    "                    gal.ncluster = clusternum\n",
    "                    for index2 in gal.neighbor_numbers:\n",
    "                        if clusters.at[index2, \"ncluster\"] == 0:\n",
    "                            clusters.at[index2, \"ncluster\"] = clusternum\n",
    "                    clusternum+=1\n",
    "            \n",
    "            most_massive = clusters.sort_values(by = ['ncluster','mass'], ascending = False).groupby('ncluster').head(1)\n",
    "        else:\n",
    "            most_massive = pd.DataFrame([[]])\n",
    "            \n",
    "    else:\n",
    "        clusters = pd.DataFrame([[]])\n",
    "        most_massive = pd.DataFrame([[]])\n",
    "        counts = np.array([0])\n",
    "    return len(clusters), len(most_massive), np.median(counts)"
   ]
  },
  {
   "cell_type": "code",
   "execution_count": 52,
   "metadata": {},
   "outputs": [
    {
     "data": {
      "text/html": [
       "<progress style='width:60ex' max='233' value='220'></progress>"
      ],
      "text/plain": [
       "[========================================================    ] 220/233"
      ]
     },
     "metadata": {},
     "output_type": "display_data"
    },
    {
     "name": "stderr",
     "output_type": "stream",
     "text": [
      "/global/common/software/desi/cori/desiconda/20190804-1.3.0-spec/conda/lib/python3.6/site-packages/ipykernel/__main__.py:17: SettingWithCopyWarning: \n",
      "A value is trying to be set on a copy of a slice from a DataFrame.\n",
      "Try using .loc[row_indexer,col_indexer] = value instead\n",
      "\n",
      "See the caveats in the documentation: http://pandas.pydata.org/pandas-docs/stable/user_guide/indexing.html#returning-a-view-versus-a-copy\n",
      "/global/common/software/desi/cori/desiconda/20190804-1.3.0-spec/conda/lib/python3.6/site-packages/ipykernel/__main__.py:18: SettingWithCopyWarning: \n",
      "A value is trying to be set on a copy of a slice from a DataFrame.\n",
      "Try using .loc[row_indexer,col_indexer] = value instead\n",
      "\n",
      "See the caveats in the documentation: http://pandas.pydata.org/pandas-docs/stable/user_guide/indexing.html#returning-a-view-versus-a-copy\n",
      "/global/common/software/desi/cori/desiconda/20190804-1.3.0-spec/conda/lib/python3.6/site-packages/ipykernel/__main__.py:21: SettingWithCopyWarning: \n",
      "A value is trying to be set on a copy of a slice from a DataFrame.\n",
      "Try using .loc[row_indexer,col_indexer] = value instead\n",
      "\n",
      "See the caveats in the documentation: http://pandas.pydata.org/pandas-docs/stable/user_guide/indexing.html#returning-a-view-versus-a-copy\n",
      "/global/common/software/desi/cori/desiconda/20190804-1.3.0-spec/conda/lib/python3.6/site-packages/ipykernel/__main__.py:23: SettingWithCopyWarning: \n",
      "A value is trying to be set on a copy of a slice from a DataFrame\n",
      "\n",
      "See the caveats in the documentation: http://pandas.pydata.org/pandas-docs/stable/user_guide/indexing.html#returning-a-view-versus-a-copy\n",
      "/global/common/software/desi/cori/desiconda/20190804-1.3.0-spec/conda/lib/python3.6/site-packages/ipykernel/__main__.py:8: SettingWithCopyWarning: \n",
      "A value is trying to be set on a copy of a slice from a DataFrame\n",
      "\n",
      "See the caveats in the documentation: http://pandas.pydata.org/pandas-docs/stable/user_guide/indexing.html#returning-a-view-versus-a-copy\n",
      "/global/common/software/desi/cori/desiconda/20190804-1.3.0-spec/conda/lib/python3.6/site-packages/ipykernel/__main__.py:26: SettingWithCopyWarning: \n",
      "A value is trying to be set on a copy of a slice from a DataFrame.\n",
      "Try using .loc[row_indexer,col_indexer] = value instead\n",
      "\n",
      "See the caveats in the documentation: http://pandas.pydata.org/pandas-docs/stable/user_guide/indexing.html#returning-a-view-versus-a-copy\n",
      "/global/common/software/desi/cori/desiconda/20190804-1.3.0-spec/conda/lib/python3.6/site-packages/ipykernel/__main__.py:28: SettingWithCopyWarning: \n",
      "A value is trying to be set on a copy of a slice from a DataFrame\n",
      "\n",
      "See the caveats in the documentation: http://pandas.pydata.org/pandas-docs/stable/user_guide/indexing.html#returning-a-view-versus-a-copy\n",
      "/global/common/software/desi/cori/desiconda/20190804-1.3.0-spec/conda/lib/python3.6/site-packages/ipykernel/__main__.py:30: SettingWithCopyWarning: \n",
      "A value is trying to be set on a copy of a slice from a DataFrame.\n",
      "Try using .loc[row_indexer,col_indexer] = value instead\n",
      "\n",
      "See the caveats in the documentation: http://pandas.pydata.org/pandas-docs/stable/user_guide/indexing.html#returning-a-view-versus-a-copy\n",
      "/global/common/software/desi/cori/desiconda/20190804-1.3.0-spec/conda/lib/python3.6/site-packages/ipykernel/__main__.py:32: SettingWithCopyWarning: \n",
      "A value is trying to be set on a copy of a slice from a DataFrame\n",
      "\n",
      "See the caveats in the documentation: http://pandas.pydata.org/pandas-docs/stable/user_guide/indexing.html#returning-a-view-versus-a-copy\n"
     ]
    },
    {
     "name": "stdout",
     "output_type": "stream",
     "text": [
      "0\n"
     ]
    },
    {
     "name": "stderr",
     "output_type": "stream",
     "text": [
      "/global/common/software/desi/cori/desiconda/20190804-1.3.0-spec/conda/lib/python3.6/site-packages/ipykernel/__main__.py:47: SettingWithCopyWarning: \n",
      "A value is trying to be set on a copy of a slice from a DataFrame.\n",
      "Try using .loc[row_indexer,col_indexer] = value instead\n",
      "\n",
      "See the caveats in the documentation: http://pandas.pydata.org/pandas-docs/stable/user_guide/indexing.html#returning-a-view-versus-a-copy\n",
      "/global/common/software/desi/cori/desiconda/20190804-1.3.0-spec/conda/lib/python3.6/site-packages/ipykernel/__main__.py:43: SettingWithCopyWarning: \n",
      "A value is trying to be set on a copy of a slice from a DataFrame.\n",
      "Try using .loc[row_indexer,col_indexer] = value instead\n",
      "\n",
      "See the caveats in the documentation: http://pandas.pydata.org/pandas-docs/stable/user_guide/indexing.html#returning-a-view-versus-a-copy\n",
      "/global/common/software/desi/cori/desiconda/20190804-1.3.0-spec/conda/lib/python3.6/site-packages/ipykernel/__main__.py:45: SettingWithCopyWarning: \n",
      "A value is trying to be set on a copy of a slice from a DataFrame\n",
      "\n",
      "See the caveats in the documentation: http://pandas.pydata.org/pandas-docs/stable/user_guide/indexing.html#returning-a-view-versus-a-copy\n",
      "/global/common/software/desi/cori/desiconda/20190804-1.3.0-spec/conda/lib/python3.6/site-packages/ipykernel/__main__.py:46: SettingWithCopyWarning: \n",
      "A value is trying to be set on a copy of a slice from a DataFrame.\n",
      "Try using .loc[row_indexer,col_indexer] = value instead\n",
      "\n",
      "See the caveats in the documentation: http://pandas.pydata.org/pandas-docs/stable/user_guide/indexing.html#returning-a-view-versus-a-copy\n"
     ]
    },
    {
     "name": "stdout",
     "output_type": "stream",
     "text": [
      "20\n"
     ]
    },
    {
     "name": "stderr",
     "output_type": "stream",
     "text": [
      "/global/common/software/desi/cori/desiconda/20190804-1.3.0-spec/conda/lib/python3.6/site-packages/ipykernel/__main__.py:23: RuntimeWarning: divide by zero encountered in log10\n"
     ]
    },
    {
     "name": "stdout",
     "output_type": "stream",
     "text": [
      "40\n",
      "60\n",
      "80\n",
      "100\n",
      "120\n",
      "140\n",
      "160\n",
      "180\n",
      "200\n",
      "220\n"
     ]
    }
   ],
   "source": [
    "dist_clusters = []\n",
    "dist_most_massive = []\n",
    "median_gal = []\n",
    "pbar = display.ProgressBar(len(binned))\n",
    "pbar.display()\n",
    "for b in range(0, len(binned), 20):\n",
    "    pbar.progress = b\n",
    "    values = clusters_dist(binned, binned_g, b)\n",
    "    dist_clusters.append(values[0])\n",
    "    dist_most_massive.append(values[1])\n",
    "    median_gal.append(values[2])\n",
    "    print(b)"
   ]
  },
  {
   "cell_type": "code",
   "execution_count": 53,
   "metadata": {},
   "outputs": [
    {
     "data": {
      "image/png": "[encoded data removed]",
      "text/plain": [
       "<matplotlib.figure.Figure at 0x2aaafe649898>"
      ]
     },
     "metadata": {
      "needs_background": "light"
     },
     "output_type": "display_data"
    },
    {
     "data": {
      "image/png": "[encoded data removed]",
      "text/plain": [
       "<matplotlib.figure.Figure at 0x2aaafb660da0>"
      ]
     },
     "metadata": {
      "needs_background": "light"
     },
     "output_type": "display_data"
    },
    {
     "data": {
      "image/png": "[encoded data removed]",
      "text/plain": [
       "<matplotlib.figure.Figure at 0x2aaafb604da0>"
      ]
     },
     "metadata": {
      "needs_background": "light"
     },
     "output_type": "display_data"
    }
   ],
   "source": [
    "redshift = np.arange(0, len(binned), 20)\n",
    "a = 1.5\n",
    "b = 1.7\n",
    "z0 = 0.7\n",
    "r = (redshift/100)/z0\n",
    "plt.plot(redshift, median_gal)\n",
    "plt.show()\n",
    "plt.plot(redshift, dist_clusters)\n",
    "plt.plot(redshift, (50000)*(r**a)*(np.e**-r)**b)\n",
    "plt.show()\n",
    "plt.plot(redshift, dist_most_massive)\n",
    "plt.plot(redshift, (5000)*(r**a)*(np.e**-r)**b)\n",
    "plt.show()"
   ]
  },
  {
   "cell_type": "code",
   "execution_count": 54,
   "metadata": {},
   "outputs": [
    {
     "name": "stdout",
     "output_type": "stream",
     "text": [
      "[35.0, 20.0, 10.0, 4.0, 1.0, 0.0, 0.5, 0.0, 0.0, 0.0, 0.0, 0.0]\n"
     ]
    }
   ],
   "source": [
    "print(median_gal)"
   ]
  },
  {
   "cell_type": "code",
   "execution_count": null,
   "metadata": {},
   "outputs": [],
   "source": [
    "threshold = oversample*22*(median_gal[b]/220)\n",
    "threshold = 2.5*median_gal[b]"
   ]
  },
  {
   "cell_type": "code",
   "execution_count": 62,
   "metadata": {},
   "outputs": [
    {
     "name": "stdout",
     "output_type": "stream",
     "text": [
      "[  0  20  40  60  80 100 120 140 160 180 200 220]\n",
      "[301, 4007, 5502, 9236, 5750, 81, 0, 1, 1, 0, 0, 1]\n",
      "[36, 202, 456, 796, 981, 54, 1, 1, 1, 1, 1, 1]\n",
      "[0.         0.13560382 0.29356853 0.36762428 0.34835368 0.27288389\n",
      " 0.18424046 0.10977869 0.05860413 0.02832307 0.01248728 0.00505182]\n"
     ]
    }
   ],
   "source": [
    "print(redshift)\n",
    "print(dist_clusters)\n",
    "print(dist_most_massive)\n",
    "print((r**a)*(np.e**-(r**b)))"
   ]
  },
  {
   "cell_type": "code",
   "execution_count": 6,
   "metadata": {},
   "outputs": [],
   "source": [
    "@dask.delayed\n",
    "def mclusters(binned, binned_g, b):\n",
    "    sample_real = binned[b]\n",
    "    massive_sample = sample_real[sample_real.mass>11]\n",
    "    if len(massive_sample)>0:\n",
    "        massive_tree = spatial.cKDTree(massive_sample[[\"x\", \"y\"]])\n",
    "        sample = binned_g[b]\n",
    "        tree = spatial.cKDTree(sample[[\"x\", \"y\"]])\n",
    "        \n",
    "        r = 2\n",
    "        neighbors = massive_tree.query_ball_tree(tree, r)\n",
    "        counts = np.array([])\n",
    "        for i in range(0, len(neighbors)):\n",
    "            counts = np.append(counts, len(neighbors[i]))\n",
    "        \n",
    "        sample.reset_index(inplace=True)\n",
    "        massive_sample.reset_index(inplace=True)\n",
    "        massive_sample[\"neighbor_numbers\"] = pd.Series(neighbors)\n",
    "        massive_sample[\"neighbors\"] = pd.Series(counts)\n",
    "        \n",
    "        masses = 10**sample.mass\n",
    "        massive_sample[\"neighbor_mass\"] = np.zeros(len(massive_sample))\n",
    "        for i in range (0, len(massive_sample)):\n",
    "            massive_sample[\"neighbor_mass\"][i] = np.log10(np.sum(masses[massive_sample.neighbor_numbers[i]]))\n",
    "        \n",
    "        reds = sample.z_phot_median\n",
    "        massive_sample[\"mean_red\"] = np.zeros(len(massive_sample))\n",
    "        for i in range (0, len(massive_sample)):\n",
    "            massive_sample[\"mean_red\"][i] = np.mean(reds[massive_sample.neighbor_numbers[i]])\n",
    "        \n",
    "        massive_sample[\"med_red\"] = np.zeros(len(massive_sample))\n",
    "        for i in range (0, len(massive_sample)):\n",
    "            massive_sample[\"med_red\"][i] = np.median(reds[massive_sample.neighbor_numbers[i]])\n",
    "            \n",
    "        C = 2.5\n",
    "        threshold = C*np.median(counts)\n",
    "        clusters = massive_sample[massive_sample.neighbors>threshold]\n",
    "        \n",
    "        if len(clusters)>0:\n",
    "            cluster_tree = spatial.cKDTree(clusters[[\"x\", \"y\"]])\n",
    "            cluster_tree2 = spatial.cKDTree(clusters[[\"x\", \"y\"]].copy())\n",
    "            r = 2\n",
    "            neighbors_c = cluster_tree.query_ball_tree(cluster_tree2, r)\n",
    "            clusters.reset_index(inplace= True)\n",
    "            clusters.drop(columns = [\"neighbor_numbers\"])\n",
    "            clusters[\"neighbor_numbers\"] = pd.Series(neighbors_c)\n",
    "            \n",
    "            clusters.sort_values(\"mass\", inplace = True)\n",
    "            clusters[\"ncluster\"] = np.zeros(len(clusters))\n",
    "            sample[\"ncluster\"] = np.zeros(len(sample))\n",
    "            clusternum = 1\n",
    "            \n",
    "            for index, gal in clusters.iterrows():\n",
    "                if gal.ncluster == 0:\n",
    "                    gal.ncluster = clusternum\n",
    "                    for index2 in gal.neighbor_numbers:\n",
    "                        if clusters.at[index2, \"ncluster\"] == 0:\n",
    "                            clusters.at[index2, \"ncluster\"] = clusternum\n",
    "                    clusternum+=1\n",
    "            \n",
    "            most_massive = clusters.sort_values(by = ['ncluster','mass'], ascending = False).groupby('ncluster').head(1)\n",
    "        else:\n",
    "            most_massive = pd.DataFrame([[]])\n",
    "            \n",
    "    else:\n",
    "        clusters = pd.DataFrame([[]])\n",
    "        most_massive = pd.DataFrame([[]])\n",
    "    \n",
    "    return clusters, most_massive"
   ]
  },
  {
   "cell_type": "code",
   "execution_count": 29,
   "metadata": {},
   "outputs": [
    {
     "data": {
      "text/html": [
       "<progress style='width:60ex' max='233' value='232'></progress>"
      ],
      "text/plain": [
       "[=========================================================== ] 232/233"
      ]
     },
     "metadata": {},
     "output_type": "display_data"
    }
   ],
   "source": [
    "cluster_bins = []\n",
    "cluster_gal_bins = []\n",
    "delayed_results = []\n",
    "pbar = display.ProgressBar(len(binned))\n",
    "pbar.display()\n",
    "for b in range(len(binned)):\n",
    "    pbar.progress = b\n",
    "    delayed_result = mclusters(binned, binned_g, b)\n",
    "    delayed_results.append(delayed_result)\n"
   ]
  },
  {
   "cell_type": "code",
   "execution_count": 30,
   "metadata": {},
   "outputs": [
    {
     "name": "stderr",
     "output_type": "stream",
     "text": [
      "distributed.comm.tcp - WARNING - Closing dangling stream in <TCP  local=tcp://127.0.0.1:52718 remote=tcp://127.0.0.1:35779>\n",
      "distributed.comm.tcp - WARNING - Closing dangling stream in <TCP  local=tcp://127.0.0.1:52736 remote=tcp://127.0.0.1:35779>\n",
      "distributed.comm.tcp - WARNING - Closing dangling stream in <TCP  local=tcp://127.0.0.1:52750 remote=tcp://127.0.0.1:35779>\n",
      "distributed.comm.tcp - WARNING - Closing dangling stream in <TCP  local=tcp://127.0.0.1:52764 remote=tcp://127.0.0.1:35779>\n",
      "distributed.comm.tcp - WARNING - Closing dangling stream in <TCP  local=tcp://127.0.0.1:52786 remote=tcp://127.0.0.1:35779>\n",
      "distributed.comm.tcp - WARNING - Closing dangling stream in <TCP  local=tcp://127.0.0.1:52804 remote=tcp://127.0.0.1:35779>\n",
      "distributed.comm.tcp - WARNING - Closing dangling stream in <TCP  local=tcp://127.0.0.1:52816 remote=tcp://127.0.0.1:35779>\n",
      "distributed.comm.tcp - WARNING - Closing dangling stream in <TCP  local=tcp://127.0.0.1:52894 remote=tcp://127.0.0.1:35779>\n",
      "distributed.comm.tcp - WARNING - Closing dangling stream in <TCP  local=tcp://127.0.0.1:52910 remote=tcp://127.0.0.1:35779>\n",
      "distributed.comm.tcp - WARNING - Closing dangling stream in <TCP  local=tcp://127.0.0.1:52928 remote=tcp://127.0.0.1:35779>\n",
      "distributed.comm.tcp - WARNING - Closing dangling stream in <TCP  local=tcp://127.0.0.1:52948 remote=tcp://127.0.0.1:35779>\n",
      "distributed.comm.tcp - WARNING - Closing dangling stream in <TCP  local=tcp://127.0.0.1:52976 remote=tcp://127.0.0.1:35779>\n",
      "distributed.comm.tcp - WARNING - Closing dangling stream in <TCP  local=tcp://127.0.0.1:52998 remote=tcp://127.0.0.1:35779>\n",
      "distributed.comm.tcp - WARNING - Closing dangling stream in <TCP  local=tcp://127.0.0.1:53046 remote=tcp://127.0.0.1:35779>\n",
      "distributed.comm.tcp - WARNING - Closing dangling stream in <TCP  local=tcp://127.0.0.1:53088 remote=tcp://127.0.0.1:35779>\n",
      "distributed.comm.tcp - WARNING - Closing dangling stream in <TCP  local=tcp://127.0.0.1:53116 remote=tcp://127.0.0.1:35779>\n",
      "distributed.comm.tcp - WARNING - Closing dangling stream in <TCP  local=tcp://127.0.0.1:53142 remote=tcp://127.0.0.1:35779>\n",
      "distributed.comm.tcp - WARNING - Closing dangling stream in <TCP  local=tcp://127.0.0.1:53178 remote=tcp://127.0.0.1:35779>\n",
      "distributed.comm.tcp - WARNING - Closing dangling stream in <TCP  local=tcp://127.0.0.1:53232 remote=tcp://127.0.0.1:35779>\n",
      "distributed.comm.tcp - WARNING - Closing dangling stream in <TCP  local=tcp://127.0.0.1:53258 remote=tcp://127.0.0.1:35779>\n",
      "distributed.comm.tcp - WARNING - Closing dangling stream in <TCP  local=tcp://127.0.0.1:53294 remote=tcp://127.0.0.1:35779>\n",
      "distributed.comm.tcp - WARNING - Closing dangling stream in <TCP  local=tcp://127.0.0.1:53334 remote=tcp://127.0.0.1:35779>\n",
      "distributed.comm.tcp - WARNING - Closing dangling stream in <TCP  local=tcp://127.0.0.1:53358 remote=tcp://127.0.0.1:35779>\n",
      "distributed.comm.tcp - WARNING - Closing dangling stream in <TCP  local=tcp://127.0.0.1:53372 remote=tcp://127.0.0.1:35779>\n"
     ]
    },
    {
     "ename": "KeyboardInterrupt",
     "evalue": "",
     "output_type": "error",
     "traceback": [
      "\u001b[0;31m---------------------------------------------------------------------------\u001b[0m",
      "\u001b[0;31mKeyboardInterrupt\u001b[0m                         Traceback (most recent call last)",
      "\u001b[0;32m<ipython-input-30-db24f46ec942>\u001b[0m in \u001b[0;36m<module>\u001b[0;34m\u001b[0m\n\u001b[0;32m----> 1\u001b[0;31m \u001b[0mresults\u001b[0m \u001b[0;34m=\u001b[0m \u001b[0mdask\u001b[0m\u001b[0;34m.\u001b[0m\u001b[0mcompute\u001b[0m\u001b[0;34m(\u001b[0m\u001b[0;34m*\u001b[0m\u001b[0mdelayed_results\u001b[0m\u001b[0;34m)\u001b[0m\u001b[0;34m\u001b[0m\u001b[0;34m\u001b[0m\u001b[0m\n\u001b[0m",
      "\u001b[0;32m~/.conda/envs/desi_dask/lib/python3.7/site-packages/dask/base.py\u001b[0m in \u001b[0;36mcompute\u001b[0;34m(*args, **kwargs)\u001b[0m\n\u001b[1;32m    434\u001b[0m     \u001b[0mkeys\u001b[0m \u001b[0;34m=\u001b[0m \u001b[0;34m[\u001b[0m\u001b[0mx\u001b[0m\u001b[0;34m.\u001b[0m\u001b[0m__dask_keys__\u001b[0m\u001b[0;34m(\u001b[0m\u001b[0;34m)\u001b[0m \u001b[0;32mfor\u001b[0m \u001b[0mx\u001b[0m \u001b[0;32min\u001b[0m \u001b[0mcollections\u001b[0m\u001b[0;34m]\u001b[0m\u001b[0;34m\u001b[0m\u001b[0;34m\u001b[0m\u001b[0m\n\u001b[1;32m    435\u001b[0m     \u001b[0mpostcomputes\u001b[0m \u001b[0;34m=\u001b[0m \u001b[0;34m[\u001b[0m\u001b[0mx\u001b[0m\u001b[0;34m.\u001b[0m\u001b[0m__dask_postcompute__\u001b[0m\u001b[0;34m(\u001b[0m\u001b[0;34m)\u001b[0m \u001b[0;32mfor\u001b[0m \u001b[0mx\u001b[0m \u001b[0;32min\u001b[0m \u001b[0mcollections\u001b[0m\u001b[0;34m]\u001b[0m\u001b[0;34m\u001b[0m\u001b[0;34m\u001b[0m\u001b[0m\n\u001b[0;32m--> 436\u001b[0;31m     \u001b[0mresults\u001b[0m \u001b[0;34m=\u001b[0m \u001b[0mschedule\u001b[0m\u001b[0;34m(\u001b[0m\u001b[0mdsk\u001b[0m\u001b[0;34m,\u001b[0m \u001b[0mkeys\u001b[0m\u001b[0;34m,\u001b[0m \u001b[0;34m**\u001b[0m\u001b[0mkwargs\u001b[0m\u001b[0;34m)\u001b[0m\u001b[0;34m\u001b[0m\u001b[0;34m\u001b[0m\u001b[0m\n\u001b[0m\u001b[1;32m    437\u001b[0m     \u001b[0;32mreturn\u001b[0m \u001b[0mrepack\u001b[0m\u001b[0;34m(\u001b[0m\u001b[0;34m[\u001b[0m\u001b[0mf\u001b[0m\u001b[0;34m(\u001b[0m\u001b[0mr\u001b[0m\u001b[0;34m,\u001b[0m \u001b[0;34m*\u001b[0m\u001b[0ma\u001b[0m\u001b[0;34m)\u001b[0m \u001b[0;32mfor\u001b[0m \u001b[0mr\u001b[0m\u001b[0;34m,\u001b[0m \u001b[0;34m(\u001b[0m\u001b[0mf\u001b[0m\u001b[0;34m,\u001b[0m \u001b[0ma\u001b[0m\u001b[0;34m)\u001b[0m \u001b[0;32min\u001b[0m \u001b[0mzip\u001b[0m\u001b[0;34m(\u001b[0m\u001b[0mresults\u001b[0m\u001b[0;34m,\u001b[0m \u001b[0mpostcomputes\u001b[0m\u001b[0;34m)\u001b[0m\u001b[0;34m]\u001b[0m\u001b[0;34m)\u001b[0m\u001b[0;34m\u001b[0m\u001b[0;34m\u001b[0m\u001b[0m\n\u001b[1;32m    438\u001b[0m \u001b[0;34m\u001b[0m\u001b[0m\n",
      "\u001b[0;32m~/.conda/envs/desi_dask/lib/python3.7/site-packages/distributed/client.py\u001b[0m in \u001b[0;36mget\u001b[0;34m(self, dsk, keys, restrictions, loose_restrictions, resources, sync, asynchronous, direct, retries, priority, fifo_timeout, actors, **kwargs)\u001b[0m\n\u001b[1;32m   2526\u001b[0m             \u001b[0mretries\u001b[0m\u001b[0;34m=\u001b[0m\u001b[0mretries\u001b[0m\u001b[0;34m,\u001b[0m\u001b[0;34m\u001b[0m\u001b[0;34m\u001b[0m\u001b[0m\n\u001b[1;32m   2527\u001b[0m             \u001b[0muser_priority\u001b[0m\u001b[0;34m=\u001b[0m\u001b[0mpriority\u001b[0m\u001b[0;34m,\u001b[0m\u001b[0;34m\u001b[0m\u001b[0;34m\u001b[0m\u001b[0m\n\u001b[0;32m-> 2528\u001b[0;31m             \u001b[0mactors\u001b[0m\u001b[0;34m=\u001b[0m\u001b[0mactors\u001b[0m\u001b[0;34m,\u001b[0m\u001b[0;34m\u001b[0m\u001b[0;34m\u001b[0m\u001b[0m\n\u001b[0m\u001b[1;32m   2529\u001b[0m         )\n\u001b[1;32m   2530\u001b[0m         \u001b[0mpacked\u001b[0m \u001b[0;34m=\u001b[0m \u001b[0mpack_data\u001b[0m\u001b[0;34m(\u001b[0m\u001b[0mkeys\u001b[0m\u001b[0;34m,\u001b[0m \u001b[0mfutures\u001b[0m\u001b[0;34m)\u001b[0m\u001b[0;34m\u001b[0m\u001b[0;34m\u001b[0m\u001b[0m\n",
      "\u001b[0;32m~/.conda/envs/desi_dask/lib/python3.7/site-packages/distributed/client.py\u001b[0m in \u001b[0;36m_graph_to_futures\u001b[0;34m(self, dsk, keys, restrictions, loose_restrictions, priority, user_priority, resources, retries, fifo_timeout, actors)\u001b[0m\n\u001b[1;32m   2453\u001b[0m                 {\n\u001b[1;32m   2454\u001b[0m                     \u001b[0;34m\"op\"\u001b[0m\u001b[0;34m:\u001b[0m \u001b[0;34m\"update-graph\"\u001b[0m\u001b[0;34m,\u001b[0m\u001b[0;34m\u001b[0m\u001b[0;34m\u001b[0m\u001b[0m\n\u001b[0;32m-> 2455\u001b[0;31m                     \u001b[0;34m\"tasks\"\u001b[0m\u001b[0;34m:\u001b[0m \u001b[0mvalmap\u001b[0m\u001b[0;34m(\u001b[0m\u001b[0mdumps_task\u001b[0m\u001b[0;34m,\u001b[0m \u001b[0mdsk3\u001b[0m\u001b[0;34m)\u001b[0m\u001b[0;34m,\u001b[0m\u001b[0;34m\u001b[0m\u001b[0;34m\u001b[0m\u001b[0m\n\u001b[0m\u001b[1;32m   2456\u001b[0m                     \u001b[0;34m\"dependencies\"\u001b[0m\u001b[0;34m:\u001b[0m \u001b[0mdependencies\u001b[0m\u001b[0;34m,\u001b[0m\u001b[0;34m\u001b[0m\u001b[0;34m\u001b[0m\u001b[0m\n\u001b[1;32m   2457\u001b[0m                     \u001b[0;34m\"keys\"\u001b[0m\u001b[0;34m:\u001b[0m \u001b[0mlist\u001b[0m\u001b[0;34m(\u001b[0m\u001b[0mflatkeys\u001b[0m\u001b[0;34m)\u001b[0m\u001b[0;34m,\u001b[0m\u001b[0;34m\u001b[0m\u001b[0;34m\u001b[0m\u001b[0m\n",
      "\u001b[0;32m~/.conda/envs/desi_dask/lib/python3.7/site-packages/cytoolz/dicttoolz.pyx\u001b[0m in \u001b[0;36mcytoolz.dicttoolz.valmap\u001b[0;34m()\u001b[0m\n",
      "\u001b[0;32m~/.conda/envs/desi_dask/lib/python3.7/site-packages/cytoolz/dicttoolz.pyx\u001b[0m in \u001b[0;36mcytoolz.dicttoolz.valmap\u001b[0;34m()\u001b[0m\n",
      "\u001b[0;32m~/.conda/envs/desi_dask/lib/python3.7/site-packages/distributed/worker.py\u001b[0m in \u001b[0;36mdumps_task\u001b[0;34m(task)\u001b[0m\n\u001b[1;32m   3213\u001b[0m             \u001b[0;32mreturn\u001b[0m \u001b[0md\u001b[0m\u001b[0;34m\u001b[0m\u001b[0;34m\u001b[0m\u001b[0m\n\u001b[1;32m   3214\u001b[0m         \u001b[0;32melif\u001b[0m \u001b[0;32mnot\u001b[0m \u001b[0many\u001b[0m\u001b[0;34m(\u001b[0m\u001b[0mmap\u001b[0m\u001b[0;34m(\u001b[0m\u001b[0m_maybe_complex\u001b[0m\u001b[0;34m,\u001b[0m \u001b[0mtask\u001b[0m\u001b[0;34m[\u001b[0m\u001b[0;36m1\u001b[0m\u001b[0;34m:\u001b[0m\u001b[0;34m]\u001b[0m\u001b[0;34m)\u001b[0m\u001b[0;34m)\u001b[0m\u001b[0;34m:\u001b[0m\u001b[0;34m\u001b[0m\u001b[0;34m\u001b[0m\u001b[0m\n\u001b[0;32m-> 3215\u001b[0;31m             \u001b[0;32mreturn\u001b[0m \u001b[0;34m{\u001b[0m\u001b[0;34m\"function\"\u001b[0m\u001b[0;34m:\u001b[0m \u001b[0mdumps_function\u001b[0m\u001b[0;34m(\u001b[0m\u001b[0mtask\u001b[0m\u001b[0;34m[\u001b[0m\u001b[0;36m0\u001b[0m\u001b[0;34m]\u001b[0m\u001b[0;34m)\u001b[0m\u001b[0;34m,\u001b[0m \u001b[0;34m\"args\"\u001b[0m\u001b[0;34m:\u001b[0m \u001b[0mwarn_dumps\u001b[0m\u001b[0;34m(\u001b[0m\u001b[0mtask\u001b[0m\u001b[0;34m[\u001b[0m\u001b[0;36m1\u001b[0m\u001b[0;34m:\u001b[0m\u001b[0;34m]\u001b[0m\u001b[0;34m)\u001b[0m\u001b[0;34m}\u001b[0m\u001b[0;34m\u001b[0m\u001b[0;34m\u001b[0m\u001b[0m\n\u001b[0m\u001b[1;32m   3216\u001b[0m     \u001b[0;32mreturn\u001b[0m \u001b[0mto_serialize\u001b[0m\u001b[0;34m(\u001b[0m\u001b[0mtask\u001b[0m\u001b[0;34m)\u001b[0m\u001b[0;34m\u001b[0m\u001b[0;34m\u001b[0m\u001b[0m\n\u001b[1;32m   3217\u001b[0m \u001b[0;34m\u001b[0m\u001b[0m\n",
      "\u001b[0;32m~/.conda/envs/desi_dask/lib/python3.7/site-packages/distributed/worker.py\u001b[0m in \u001b[0;36mwarn_dumps\u001b[0;34m(obj, dumps, limit)\u001b[0m\n\u001b[1;32m   3222\u001b[0m \u001b[0;32mdef\u001b[0m \u001b[0mwarn_dumps\u001b[0m\u001b[0;34m(\u001b[0m\u001b[0mobj\u001b[0m\u001b[0;34m,\u001b[0m \u001b[0mdumps\u001b[0m\u001b[0;34m=\u001b[0m\u001b[0mpickle\u001b[0m\u001b[0;34m.\u001b[0m\u001b[0mdumps\u001b[0m\u001b[0;34m,\u001b[0m \u001b[0mlimit\u001b[0m\u001b[0;34m=\u001b[0m\u001b[0;36m1e6\u001b[0m\u001b[0;34m)\u001b[0m\u001b[0;34m:\u001b[0m\u001b[0;34m\u001b[0m\u001b[0;34m\u001b[0m\u001b[0m\n\u001b[1;32m   3223\u001b[0m     \u001b[0;34m\"\"\" Dump an object to bytes, warn if those bytes are large \"\"\"\u001b[0m\u001b[0;34m\u001b[0m\u001b[0;34m\u001b[0m\u001b[0m\n\u001b[0;32m-> 3224\u001b[0;31m     \u001b[0mb\u001b[0m \u001b[0;34m=\u001b[0m \u001b[0mdumps\u001b[0m\u001b[0;34m(\u001b[0m\u001b[0mobj\u001b[0m\u001b[0;34m)\u001b[0m\u001b[0;34m\u001b[0m\u001b[0;34m\u001b[0m\u001b[0m\n\u001b[0m\u001b[1;32m   3225\u001b[0m     \u001b[0;32mif\u001b[0m \u001b[0;32mnot\u001b[0m \u001b[0m_warn_dumps_warned\u001b[0m\u001b[0;34m[\u001b[0m\u001b[0;36m0\u001b[0m\u001b[0;34m]\u001b[0m \u001b[0;32mand\u001b[0m \u001b[0mlen\u001b[0m\u001b[0;34m(\u001b[0m\u001b[0mb\u001b[0m\u001b[0;34m)\u001b[0m \u001b[0;34m>\u001b[0m \u001b[0mlimit\u001b[0m\u001b[0;34m:\u001b[0m\u001b[0;34m\u001b[0m\u001b[0;34m\u001b[0m\u001b[0m\n\u001b[1;32m   3226\u001b[0m         \u001b[0m_warn_dumps_warned\u001b[0m\u001b[0;34m[\u001b[0m\u001b[0;36m0\u001b[0m\u001b[0;34m]\u001b[0m \u001b[0;34m=\u001b[0m \u001b[0;32mTrue\u001b[0m\u001b[0;34m\u001b[0m\u001b[0;34m\u001b[0m\u001b[0m\n",
      "\u001b[0;32m~/.conda/envs/desi_dask/lib/python3.7/site-packages/distributed/protocol/pickle.py\u001b[0m in \u001b[0;36mdumps\u001b[0;34m(x)\u001b[0m\n\u001b[1;32m     36\u001b[0m     \"\"\"\n\u001b[1;32m     37\u001b[0m     \u001b[0;32mtry\u001b[0m\u001b[0;34m:\u001b[0m\u001b[0;34m\u001b[0m\u001b[0;34m\u001b[0m\u001b[0m\n\u001b[0;32m---> 38\u001b[0;31m         \u001b[0mresult\u001b[0m \u001b[0;34m=\u001b[0m \u001b[0mpickle\u001b[0m\u001b[0;34m.\u001b[0m\u001b[0mdumps\u001b[0m\u001b[0;34m(\u001b[0m\u001b[0mx\u001b[0m\u001b[0;34m,\u001b[0m \u001b[0mprotocol\u001b[0m\u001b[0;34m=\u001b[0m\u001b[0mpickle\u001b[0m\u001b[0;34m.\u001b[0m\u001b[0mHIGHEST_PROTOCOL\u001b[0m\u001b[0;34m)\u001b[0m\u001b[0;34m\u001b[0m\u001b[0;34m\u001b[0m\u001b[0m\n\u001b[0m\u001b[1;32m     39\u001b[0m         \u001b[0;32mif\u001b[0m \u001b[0mlen\u001b[0m\u001b[0;34m(\u001b[0m\u001b[0mresult\u001b[0m\u001b[0;34m)\u001b[0m \u001b[0;34m<\u001b[0m \u001b[0;36m1000\u001b[0m\u001b[0;34m:\u001b[0m\u001b[0;34m\u001b[0m\u001b[0;34m\u001b[0m\u001b[0m\n\u001b[1;32m     40\u001b[0m             \u001b[0;32mif\u001b[0m \u001b[0;34mb\"__main__\"\u001b[0m \u001b[0;32min\u001b[0m \u001b[0mresult\u001b[0m\u001b[0;34m:\u001b[0m\u001b[0;34m\u001b[0m\u001b[0;34m\u001b[0m\u001b[0m\n",
      "\u001b[0;32m~/.local/lib/python3.7/site-packages/pandas/core/indexes/base.py\u001b[0m in \u001b[0;36m__reduce__\u001b[0;34m(self)\u001b[0m\n\u001b[1;32m   1742\u001b[0m     \u001b[0;31m# Pickle Methods\u001b[0m\u001b[0;34m\u001b[0m\u001b[0;34m\u001b[0m\u001b[0;34m\u001b[0m\u001b[0m\n\u001b[1;32m   1743\u001b[0m \u001b[0;34m\u001b[0m\u001b[0m\n\u001b[0;32m-> 1744\u001b[0;31m     \u001b[0;32mdef\u001b[0m \u001b[0m__reduce__\u001b[0m\u001b[0;34m(\u001b[0m\u001b[0mself\u001b[0m\u001b[0;34m)\u001b[0m\u001b[0;34m:\u001b[0m\u001b[0;34m\u001b[0m\u001b[0;34m\u001b[0m\u001b[0m\n\u001b[0m\u001b[1;32m   1745\u001b[0m         \u001b[0md\u001b[0m \u001b[0;34m=\u001b[0m \u001b[0mdict\u001b[0m\u001b[0;34m(\u001b[0m\u001b[0mdata\u001b[0m\u001b[0;34m=\u001b[0m\u001b[0mself\u001b[0m\u001b[0;34m.\u001b[0m\u001b[0m_data\u001b[0m\u001b[0;34m)\u001b[0m\u001b[0;34m\u001b[0m\u001b[0;34m\u001b[0m\u001b[0m\n\u001b[1;32m   1746\u001b[0m         \u001b[0md\u001b[0m\u001b[0;34m.\u001b[0m\u001b[0mupdate\u001b[0m\u001b[0;34m(\u001b[0m\u001b[0mself\u001b[0m\u001b[0;34m.\u001b[0m\u001b[0m_get_attributes_dict\u001b[0m\u001b[0;34m(\u001b[0m\u001b[0;34m)\u001b[0m\u001b[0;34m)\u001b[0m\u001b[0;34m\u001b[0m\u001b[0;34m\u001b[0m\u001b[0m\n",
      "\u001b[0;31mKeyboardInterrupt\u001b[0m: "
     ]
    },
    {
     "name": "stderr",
     "output_type": "stream",
     "text": [
      "distributed.comm.tcp - WARNING - Closing dangling stream in <TCP  local=tcp://127.0.0.1:53394 remote=tcp://127.0.0.1:35779>\n",
      "distributed.comm.tcp - WARNING - Closing dangling stream in <TCP  local=tcp://127.0.0.1:53414 remote=tcp://127.0.0.1:35779>\n",
      "distributed.comm.tcp - WARNING - Closing dangling stream in <TCP  local=tcp://127.0.0.1:53448 remote=tcp://127.0.0.1:35779>\n",
      "distributed.nanny - WARNING - Restarting worker\n",
      "distributed.nanny - WARNING - Restarting worker\n",
      "distributed.nanny - WARNING - Restarting worker\n",
      "distributed.nanny - WARNING - Restarting worker\n",
      "distributed.nanny - WARNING - Restarting worker\n",
      "distributed.nanny - WARNING - Restarting worker\n",
      "distributed.nanny - WARNING - Restarting worker\n",
      "distributed.nanny - WARNING - Restarting worker\n"
     ]
    }
   ],
   "source": [
    "results = dask.compute(*delayed_results)"
   ]
  },
  {
   "cell_type": "code",
   "execution_count": 28,
   "metadata": {},
   "outputs": [
    {
     "data": {
      "text/plain": [
       "(   level_0    index  z_phot_median  z_phot_std       mass  RELEASE  BRICKID  \\\n",
       " 0      206  4078472       0.103246    0.010970  11.063285     8000   313089   \n",
       " 1      233  4439119       0.102134    0.006877  11.103098     8000   326070   \n",
       " 2      243  4619208       0.108639    0.006397  11.162555     8000   326069   \n",
       " 3      244  4619867       0.115188    0.006141  11.172151     8000   326069   \n",
       " 5      253  4854956       0.101657    0.004845  11.378450     8000   324629   \n",
       " 4      252  4853715       0.110743    0.003078  11.571613     8000   324629   \n",
       " \n",
       "   BRICKNAME  OBJID  TYPE  ...     DEC_r           z          y          x  \\\n",
       " 0  0003m030     59  DEV   ... -0.054457  478.754476 -26.071725   3.324287   \n",
       " 1  0056m007    943  DEV   ... -0.014685  478.754476  -7.030571  46.079623   \n",
       " 2  0053m007    446  DEV   ... -0.014911  478.754476  -7.138849  45.386354   \n",
       " 3  0053m007   1108  DEV   ... -0.014603  478.754476  -6.991178  44.442527   \n",
       " 5  0053m010   7371  DEV   ... -0.015281  478.754476  -7.316017  45.338570   \n",
       " 4  0053m010   6096  DEV   ... -0.016151  478.754476  -7.732586  44.127779   \n",
       " \n",
       "    neighbor_numbers  neighbors  neighbor_mass  mean_red   med_red  ncluster  \n",
       " 0               [0]       88.0      12.364032  0.104131  0.106826       1.0  \n",
       " 1      [1, 2, 3, 5]       95.0      12.497310  0.104858  0.106618       2.0  \n",
       " 2   [1, 2, 3, 4, 5]      106.0      12.624813  0.105832  0.107176       2.0  \n",
       " 3   [1, 2, 3, 4, 5]      100.0      12.545448  0.106478  0.108967       2.0  \n",
       " 5   [1, 2, 3, 4, 5]      108.0      12.616469  0.105701  0.106867       2.0  \n",
       " 4      [2, 3, 4, 5]       96.0      12.527126  0.105639  0.108838       3.0  \n",
       " \n",
       " [6 rows x 28 columns],\n",
       "    level_0    index  z_phot_median  z_phot_std       mass  RELEASE  BRICKID  \\\n",
       " 4      252  4853715       0.110743    0.003078  11.571613     8000   324629   \n",
       " 5      253  4854956       0.101657    0.004845  11.378450     8000   324629   \n",
       " 0      206  4078472       0.103246    0.010970  11.063285     8000   313089   \n",
       " \n",
       "   BRICKNAME  OBJID  TYPE  ...     DEC_r           z          y          x  \\\n",
       " 4  0053m010   6096  DEV   ... -0.016151  478.754476  -7.732586  44.127779   \n",
       " 5  0053m010   7371  DEV   ... -0.015281  478.754476  -7.316017  45.338570   \n",
       " 0  0003m030     59  DEV   ... -0.054457  478.754476 -26.071725   3.324287   \n",
       " \n",
       "    neighbor_numbers  neighbors  neighbor_mass  mean_red   med_red  ncluster  \n",
       " 4      [2, 3, 4, 5]       96.0      12.527126  0.105639  0.108838       3.0  \n",
       " 5   [1, 2, 3, 4, 5]      108.0      12.616469  0.105701  0.106867       2.0  \n",
       " 0               [0]       88.0      12.364032  0.104131  0.106826       1.0  \n",
       " \n",
       " [3 rows x 28 columns])"
      ]
     },
     "execution_count": 28,
     "metadata": {},
     "output_type": "execute_result"
    }
   ],
   "source": [
    "results[0]"
   ]
  },
  {
   "cell_type": "code",
   "execution_count": 31,
   "metadata": {},
   "outputs": [
    {
     "data": {
      "text/html": [
       "<progress style='width:60ex' max='2' value='1'></progress>"
      ],
      "text/plain": [
       "[==============================                              ] 1/2"
      ]
     },
     "metadata": {},
     "output_type": "display_data"
    }
   ],
   "source": [
    "futures = []\n",
    "pbar = display.ProgressBar(len(binned[:2]))\n",
    "pbar.display()\n",
    "for b in range(len(binned[:2])):\n",
    "    pbar.progress = b\n",
    "    parameters = (binned, binned_g, b)\n",
    "    future = client.submit(mclusters, parameters)\n",
    "    futures.append(future)"
   ]
  },
  {
   "cell_type": "code",
   "execution_count": 44,
   "metadata": {},
   "outputs": [
    {
     "data": {
      "text/plain": [
       "{'tcp://127.0.0.1:33805': None,\n",
       " 'tcp://127.0.0.1:35961': None,\n",
       " 'tcp://127.0.0.1:36161': None,\n",
       " 'tcp://127.0.0.1:38099': None,\n",
       " 'tcp://127.0.0.1:38967': None,\n",
       " 'tcp://127.0.0.1:42379': None,\n",
       " 'tcp://127.0.0.1:45473': None,\n",
       " 'tcp://127.0.0.1:46841': None}"
      ]
     },
     "execution_count": 44,
     "metadata": {},
     "output_type": "execute_result"
    }
   ],
   "source": [
    "def install():\n",
    "    import os\n",
    "    os.system(\"conda install pandas -c conda-forge -y\")\n",
    "\n",
    "client.run(install) "
   ]
  },
  {
   "cell_type": "code",
   "execution_count": 4,
   "metadata": {},
   "outputs": [
    {
     "data": {
      "text/plain": [
       "{'scheduler': {'host': (('python', '3.7.3.final.0'),\n",
       "   ('python-bits', 64),\n",
       "   ('OS', 'Linux'),\n",
       "   ('OS-release', '4.12.14-150.47-default'),\n",
       "   ('machine', 'x86_64'),\n",
       "   ('processor', 'x86_64'),\n",
       "   ('byteorder', 'little'),\n",
       "   ('LC_ALL', 'None'),\n",
       "   ('LANG', 'C.UTF-8'),\n",
       "   ('LOCALE', 'en_US.UTF-8')),\n",
       "  'packages': {'required': (('dask', '2.8.0'),\n",
       "    ('distributed', '2.8.0'),\n",
       "    ('msgpack', '0.6.2'),\n",
       "    ('cloudpickle', '1.2.2'),\n",
       "    ('tornado', '6.0.3'),\n",
       "    ('toolz', '0.10.0')),\n",
       "   'optional': (('numpy', '1.17.3'),\n",
       "    ('pandas', None),\n",
       "    ('bokeh', '1.4.0'),\n",
       "    ('lz4', None),\n",
       "    ('dask_ml', None),\n",
       "    ('blosc', None),\n",
       "    ('sklearn', None))}},\n",
       " 'workers': {'tcp://127.0.0.1:33805': {'host': (('python', '3.7.3.final.0'),\n",
       "    ('python-bits', 64),\n",
       "    ('OS', 'Linux'),\n",
       "    ('OS-release', '4.12.14-150.47-default'),\n",
       "    ('machine', 'x86_64'),\n",
       "    ('processor', 'x86_64'),\n",
       "    ('byteorder', 'little'),\n",
       "    ('LC_ALL', 'None'),\n",
       "    ('LANG', 'C.UTF-8'),\n",
       "    ('LOCALE', 'en_US.UTF-8')),\n",
       "   'packages': {'required': (('dask', '2.8.0'),\n",
       "     ('distributed', '2.8.0'),\n",
       "     ('msgpack', '0.6.2'),\n",
       "     ('cloudpickle', '1.2.2'),\n",
       "     ('tornado', '6.0.3'),\n",
       "     ('toolz', '0.10.0')),\n",
       "    'optional': (('numpy', '1.17.3'),\n",
       "     ('pandas', None),\n",
       "     ('bokeh', '1.4.0'),\n",
       "     ('lz4', None),\n",
       "     ('dask_ml', None),\n",
       "     ('blosc', None),\n",
       "     ('sklearn', None))}},\n",
       "  'tcp://127.0.0.1:35961': {'host': (('python', '3.7.3.final.0'),\n",
       "    ('python-bits', 64),\n",
       "    ('OS', 'Linux'),\n",
       "    ('OS-release', '4.12.14-150.47-default'),\n",
       "    ('machine', 'x86_64'),\n",
       "    ('processor', 'x86_64'),\n",
       "    ('byteorder', 'little'),\n",
       "    ('LC_ALL', 'None'),\n",
       "    ('LANG', 'C.UTF-8'),\n",
       "    ('LOCALE', 'en_US.UTF-8')),\n",
       "   'packages': {'required': (('dask', '2.8.0'),\n",
       "     ('distributed', '2.8.0'),\n",
       "     ('msgpack', '0.6.2'),\n",
       "     ('cloudpickle', '1.2.2'),\n",
       "     ('tornado', '6.0.3'),\n",
       "     ('toolz', '0.10.0')),\n",
       "    'optional': (('numpy', '1.17.3'),\n",
       "     ('pandas', None),\n",
       "     ('bokeh', '1.4.0'),\n",
       "     ('lz4', None),\n",
       "     ('dask_ml', None),\n",
       "     ('blosc', None),\n",
       "     ('sklearn', None))}},\n",
       "  'tcp://127.0.0.1:36161': {'host': (('python', '3.7.3.final.0'),\n",
       "    ('python-bits', 64),\n",
       "    ('OS', 'Linux'),\n",
       "    ('OS-release', '4.12.14-150.47-default'),\n",
       "    ('machine', 'x86_64'),\n",
       "    ('processor', 'x86_64'),\n",
       "    ('byteorder', 'little'),\n",
       "    ('LC_ALL', 'None'),\n",
       "    ('LANG', 'C.UTF-8'),\n",
       "    ('LOCALE', 'en_US.UTF-8')),\n",
       "   'packages': {'required': (('dask', '2.8.0'),\n",
       "     ('distributed', '2.8.0'),\n",
       "     ('msgpack', '0.6.2'),\n",
       "     ('cloudpickle', '1.2.2'),\n",
       "     ('tornado', '6.0.3'),\n",
       "     ('toolz', '0.10.0')),\n",
       "    'optional': (('numpy', '1.17.3'),\n",
       "     ('pandas', None),\n",
       "     ('bokeh', '1.4.0'),\n",
       "     ('lz4', None),\n",
       "     ('dask_ml', None),\n",
       "     ('blosc', None),\n",
       "     ('sklearn', None))}},\n",
       "  'tcp://127.0.0.1:38099': {'host': (('python', '3.7.3.final.0'),\n",
       "    ('python-bits', 64),\n",
       "    ('OS', 'Linux'),\n",
       "    ('OS-release', '4.12.14-150.47-default'),\n",
       "    ('machine', 'x86_64'),\n",
       "    ('processor', 'x86_64'),\n",
       "    ('byteorder', 'little'),\n",
       "    ('LC_ALL', 'None'),\n",
       "    ('LANG', 'C.UTF-8'),\n",
       "    ('LOCALE', 'en_US.UTF-8')),\n",
       "   'packages': {'required': (('dask', '2.8.0'),\n",
       "     ('distributed', '2.8.0'),\n",
       "     ('msgpack', '0.6.2'),\n",
       "     ('cloudpickle', '1.2.2'),\n",
       "     ('tornado', '6.0.3'),\n",
       "     ('toolz', '0.10.0')),\n",
       "    'optional': (('numpy', '1.17.3'),\n",
       "     ('pandas', None),\n",
       "     ('bokeh', '1.4.0'),\n",
       "     ('lz4', None),\n",
       "     ('dask_ml', None),\n",
       "     ('blosc', None),\n",
       "     ('sklearn', None))}},\n",
       "  'tcp://127.0.0.1:38967': {'host': (('python', '3.7.3.final.0'),\n",
       "    ('python-bits', 64),\n",
       "    ('OS', 'Linux'),\n",
       "    ('OS-release', '4.12.14-150.47-default'),\n",
       "    ('machine', 'x86_64'),\n",
       "    ('processor', 'x86_64'),\n",
       "    ('byteorder', 'little'),\n",
       "    ('LC_ALL', 'None'),\n",
       "    ('LANG', 'C.UTF-8'),\n",
       "    ('LOCALE', 'en_US.UTF-8')),\n",
       "   'packages': {'required': (('dask', '2.8.0'),\n",
       "     ('distributed', '2.8.0'),\n",
       "     ('msgpack', '0.6.2'),\n",
       "     ('cloudpickle', '1.2.2'),\n",
       "     ('tornado', '6.0.3'),\n",
       "     ('toolz', '0.10.0')),\n",
       "    'optional': (('numpy', '1.17.3'),\n",
       "     ('pandas', None),\n",
       "     ('bokeh', '1.4.0'),\n",
       "     ('lz4', None),\n",
       "     ('dask_ml', None),\n",
       "     ('blosc', None),\n",
       "     ('sklearn', None))}},\n",
       "  'tcp://127.0.0.1:42379': {'host': (('python', '3.7.3.final.0'),\n",
       "    ('python-bits', 64),\n",
       "    ('OS', 'Linux'),\n",
       "    ('OS-release', '4.12.14-150.47-default'),\n",
       "    ('machine', 'x86_64'),\n",
       "    ('processor', 'x86_64'),\n",
       "    ('byteorder', 'little'),\n",
       "    ('LC_ALL', 'None'),\n",
       "    ('LANG', 'C.UTF-8'),\n",
       "    ('LOCALE', 'en_US.UTF-8')),\n",
       "   'packages': {'required': (('dask', '2.8.0'),\n",
       "     ('distributed', '2.8.0'),\n",
       "     ('msgpack', '0.6.2'),\n",
       "     ('cloudpickle', '1.2.2'),\n",
       "     ('tornado', '6.0.3'),\n",
       "     ('toolz', '0.10.0')),\n",
       "    'optional': (('numpy', '1.17.3'),\n",
       "     ('pandas', None),\n",
       "     ('bokeh', '1.4.0'),\n",
       "     ('lz4', None),\n",
       "     ('dask_ml', None),\n",
       "     ('blosc', None),\n",
       "     ('sklearn', None))}},\n",
       "  'tcp://127.0.0.1:45473': {'host': (('python', '3.7.3.final.0'),\n",
       "    ('python-bits', 64),\n",
       "    ('OS', 'Linux'),\n",
       "    ('OS-release', '4.12.14-150.47-default'),\n",
       "    ('machine', 'x86_64'),\n",
       "    ('processor', 'x86_64'),\n",
       "    ('byteorder', 'little'),\n",
       "    ('LC_ALL', 'None'),\n",
       "    ('LANG', 'C.UTF-8'),\n",
       "    ('LOCALE', 'en_US.UTF-8')),\n",
       "   'packages': {'required': (('dask', '2.8.0'),\n",
       "     ('distributed', '2.8.0'),\n",
       "     ('msgpack', '0.6.2'),\n",
       "     ('cloudpickle', '1.2.2'),\n",
       "     ('tornado', '6.0.3'),\n",
       "     ('toolz', '0.10.0')),\n",
       "    'optional': (('numpy', '1.17.3'),\n",
       "     ('pandas', None),\n",
       "     ('bokeh', '1.4.0'),\n",
       "     ('lz4', None),\n",
       "     ('dask_ml', None),\n",
       "     ('blosc', None),\n",
       "     ('sklearn', None))}},\n",
       "  'tcp://127.0.0.1:46841': {'host': (('python', '3.7.3.final.0'),\n",
       "    ('python-bits', 64),\n",
       "    ('OS', 'Linux'),\n",
       "    ('OS-release', '4.12.14-150.47-default'),\n",
       "    ('machine', 'x86_64'),\n",
       "    ('processor', 'x86_64'),\n",
       "    ('byteorder', 'little'),\n",
       "    ('LC_ALL', 'None'),\n",
       "    ('LANG', 'C.UTF-8'),\n",
       "    ('LOCALE', 'en_US.UTF-8')),\n",
       "   'packages': {'required': (('dask', '2.8.0'),\n",
       "     ('distributed', '2.8.0'),\n",
       "     ('msgpack', '0.6.2'),\n",
       "     ('cloudpickle', '1.2.2'),\n",
       "     ('tornado', '6.0.3'),\n",
       "     ('toolz', '0.10.0')),\n",
       "    'optional': (('numpy', '1.17.3'),\n",
       "     ('pandas', None),\n",
       "     ('bokeh', '1.4.0'),\n",
       "     ('lz4', None),\n",
       "     ('dask_ml', None),\n",
       "     ('blosc', None),\n",
       "     ('sklearn', None))}}},\n",
       " 'client': {'host': [('python', '3.7.4.final.0'),\n",
       "   ('python-bits', 64),\n",
       "   ('OS', 'Linux'),\n",
       "   ('OS-release', '4.12.14-150.47-default'),\n",
       "   ('machine', 'x86_64'),\n",
       "   ('processor', 'x86_64'),\n",
       "   ('byteorder', 'little'),\n",
       "   ('LC_ALL', 'None'),\n",
       "   ('LANG', 'C.UTF-8'),\n",
       "   ('LOCALE', 'en_US.UTF-8')],\n",
       "  'packages': {'required': [('dask', '2.5.2'),\n",
       "    ('distributed', '2.5.2'),\n",
       "    ('msgpack', '0.6.1'),\n",
       "    ('cloudpickle', '1.2.2'),\n",
       "    ('tornado', '6.0.3'),\n",
       "    ('toolz', '0.10.0')],\n",
       "   'optional': [('numpy', '1.17.2'),\n",
       "    ('pandas', '1.0.1'),\n",
       "    ('bokeh', '1.3.4'),\n",
       "    ('lz4', None),\n",
       "    ('dask_ml', None),\n",
       "    ('blosc', None),\n",
       "    ('sklearn', '0.21.3')]}}}"
      ]
     },
     "execution_count": 4,
     "metadata": {},
     "output_type": "execute_result"
    }
   ],
   "source": [
    "client.get_versions(packages=['sklearn'])"
   ]
  },
  {
   "cell_type": "code",
   "execution_count": 8,
   "metadata": {},
   "outputs": [
    {
     "data": {
      "text/plain": [
       "{'scheduler': {'host': (('python', '3.7.4.final.0'),\n",
       "   ('python-bits', 64),\n",
       "   ('OS', 'Linux'),\n",
       "   ('OS-release', '4.12.14-150.47-default'),\n",
       "   ('machine', 'x86_64'),\n",
       "   ('processor', 'x86_64'),\n",
       "   ('byteorder', 'little'),\n",
       "   ('LC_ALL', 'None'),\n",
       "   ('LANG', 'C.UTF-8'),\n",
       "   ('LOCALE', 'en_US.UTF-8')),\n",
       "  'packages': {'required': (('dask', '2.5.2'),\n",
       "    ('distributed', '2.5.2'),\n",
       "    ('msgpack', '0.6.1'),\n",
       "    ('cloudpickle', '1.2.2'),\n",
       "    ('tornado', '6.0.3'),\n",
       "    ('toolz', '0.10.0')),\n",
       "   'optional': (('numpy', '1.17.2'),\n",
       "    ('pandas', '1.0.1'),\n",
       "    ('bokeh', '1.3.4'),\n",
       "    ('lz4', None),\n",
       "    ('dask_ml', None),\n",
       "    ('blosc', None))}},\n",
       " 'workers': {'tcp://127.0.0.1:35425': {'host': (('python', '3.7.4.final.0'),\n",
       "    ('python-bits', 64),\n",
       "    ('OS', 'Linux'),\n",
       "    ('OS-release', '4.12.14-150.47-default'),\n",
       "    ('machine', 'x86_64'),\n",
       "    ('processor', 'x86_64'),\n",
       "    ('byteorder', 'little'),\n",
       "    ('LC_ALL', 'None'),\n",
       "    ('LANG', 'C.UTF-8'),\n",
       "    ('LOCALE', 'en_US.UTF-8')),\n",
       "   'packages': {'required': (('dask', '2.5.2'),\n",
       "     ('distributed', '2.5.2'),\n",
       "     ('msgpack', '0.6.1'),\n",
       "     ('cloudpickle', '1.2.2'),\n",
       "     ('tornado', '6.0.3'),\n",
       "     ('toolz', '0.10.0')),\n",
       "    'optional': (('numpy', '1.17.2'),\n",
       "     ('pandas', '1.0.1'),\n",
       "     ('bokeh', '1.3.4'),\n",
       "     ('lz4', None),\n",
       "     ('dask_ml', None),\n",
       "     ('blosc', None))}},\n",
       "  'tcp://127.0.0.1:36257': {'host': (('python', '3.7.4.final.0'),\n",
       "    ('python-bits', 64),\n",
       "    ('OS', 'Linux'),\n",
       "    ('OS-release', '4.12.14-150.47-default'),\n",
       "    ('machine', 'x86_64'),\n",
       "    ('processor', 'x86_64'),\n",
       "    ('byteorder', 'little'),\n",
       "    ('LC_ALL', 'None'),\n",
       "    ('LANG', 'C.UTF-8'),\n",
       "    ('LOCALE', 'en_US.UTF-8')),\n",
       "   'packages': {'required': (('dask', '2.5.2'),\n",
       "     ('distributed', '2.5.2'),\n",
       "     ('msgpack', '0.6.1'),\n",
       "     ('cloudpickle', '1.2.2'),\n",
       "     ('tornado', '6.0.3'),\n",
       "     ('toolz', '0.10.0')),\n",
       "    'optional': (('numpy', '1.17.2'),\n",
       "     ('pandas', '1.0.1'),\n",
       "     ('bokeh', '1.3.4'),\n",
       "     ('lz4', None),\n",
       "     ('dask_ml', None),\n",
       "     ('blosc', None))}},\n",
       "  'tcp://127.0.0.1:40395': {'host': (('python', '3.7.4.final.0'),\n",
       "    ('python-bits', 64),\n",
       "    ('OS', 'Linux'),\n",
       "    ('OS-release', '4.12.14-150.47-default'),\n",
       "    ('machine', 'x86_64'),\n",
       "    ('processor', 'x86_64'),\n",
       "    ('byteorder', 'little'),\n",
       "    ('LC_ALL', 'None'),\n",
       "    ('LANG', 'C.UTF-8'),\n",
       "    ('LOCALE', 'en_US.UTF-8')),\n",
       "   'packages': {'required': (('dask', '2.5.2'),\n",
       "     ('distributed', '2.5.2'),\n",
       "     ('msgpack', '0.6.1'),\n",
       "     ('cloudpickle', '1.2.2'),\n",
       "     ('tornado', '6.0.3'),\n",
       "     ('toolz', '0.10.0')),\n",
       "    'optional': (('numpy', '1.17.2'),\n",
       "     ('pandas', '1.0.1'),\n",
       "     ('bokeh', '1.3.4'),\n",
       "     ('lz4', None),\n",
       "     ('dask_ml', None),\n",
       "     ('blosc', None))}},\n",
       "  'tcp://127.0.0.1:40435': {'host': (('python', '3.7.4.final.0'),\n",
       "    ('python-bits', 64),\n",
       "    ('OS', 'Linux'),\n",
       "    ('OS-release', '4.12.14-150.47-default'),\n",
       "    ('machine', 'x86_64'),\n",
       "    ('processor', 'x86_64'),\n",
       "    ('byteorder', 'little'),\n",
       "    ('LC_ALL', 'None'),\n",
       "    ('LANG', 'C.UTF-8'),\n",
       "    ('LOCALE', 'en_US.UTF-8')),\n",
       "   'packages': {'required': (('dask', '2.5.2'),\n",
       "     ('distributed', '2.5.2'),\n",
       "     ('msgpack', '0.6.1'),\n",
       "     ('cloudpickle', '1.2.2'),\n",
       "     ('tornado', '6.0.3'),\n",
       "     ('toolz', '0.10.0')),\n",
       "    'optional': (('numpy', '1.17.2'),\n",
       "     ('pandas', '1.0.1'),\n",
       "     ('bokeh', '1.3.4'),\n",
       "     ('lz4', None),\n",
       "     ('dask_ml', None),\n",
       "     ('blosc', None))}},\n",
       "  'tcp://127.0.0.1:42399': {'host': (('python', '3.7.4.final.0'),\n",
       "    ('python-bits', 64),\n",
       "    ('OS', 'Linux'),\n",
       "    ('OS-release', '4.12.14-150.47-default'),\n",
       "    ('machine', 'x86_64'),\n",
       "    ('processor', 'x86_64'),\n",
       "    ('byteorder', 'little'),\n",
       "    ('LC_ALL', 'None'),\n",
       "    ('LANG', 'C.UTF-8'),\n",
       "    ('LOCALE', 'en_US.UTF-8')),\n",
       "   'packages': {'required': (('dask', '2.5.2'),\n",
       "     ('distributed', '2.5.2'),\n",
       "     ('msgpack', '0.6.1'),\n",
       "     ('cloudpickle', '1.2.2'),\n",
       "     ('tornado', '6.0.3'),\n",
       "     ('toolz', '0.10.0')),\n",
       "    'optional': (('numpy', '1.17.2'),\n",
       "     ('pandas', '1.0.1'),\n",
       "     ('bokeh', '1.3.4'),\n",
       "     ('lz4', None),\n",
       "     ('dask_ml', None),\n",
       "     ('blosc', None))}},\n",
       "  'tcp://127.0.0.1:43899': {'host': (('python', '3.7.4.final.0'),\n",
       "    ('python-bits', 64),\n",
       "    ('OS', 'Linux'),\n",
       "    ('OS-release', '4.12.14-150.47-default'),\n",
       "    ('machine', 'x86_64'),\n",
       "    ('processor', 'x86_64'),\n",
       "    ('byteorder', 'little'),\n",
       "    ('LC_ALL', 'None'),\n",
       "    ('LANG', 'C.UTF-8'),\n",
       "    ('LOCALE', 'en_US.UTF-8')),\n",
       "   'packages': {'required': (('dask', '2.5.2'),\n",
       "     ('distributed', '2.5.2'),\n",
       "     ('msgpack', '0.6.1'),\n",
       "     ('cloudpickle', '1.2.2'),\n",
       "     ('tornado', '6.0.3'),\n",
       "     ('toolz', '0.10.0')),\n",
       "    'optional': (('numpy', '1.17.2'),\n",
       "     ('pandas', '1.0.1'),\n",
       "     ('bokeh', '1.3.4'),\n",
       "     ('lz4', None),\n",
       "     ('dask_ml', None),\n",
       "     ('blosc', None))}},\n",
       "  'tcp://127.0.0.1:44539': {'host': (('python', '3.7.4.final.0'),\n",
       "    ('python-bits', 64),\n",
       "    ('OS', 'Linux'),\n",
       "    ('OS-release', '4.12.14-150.47-default'),\n",
       "    ('machine', 'x86_64'),\n",
       "    ('processor', 'x86_64'),\n",
       "    ('byteorder', 'little'),\n",
       "    ('LC_ALL', 'None'),\n",
       "    ('LANG', 'C.UTF-8'),\n",
       "    ('LOCALE', 'en_US.UTF-8')),\n",
       "   'packages': {'required': (('dask', '2.5.2'),\n",
       "     ('distributed', '2.5.2'),\n",
       "     ('msgpack', '0.6.1'),\n",
       "     ('cloudpickle', '1.2.2'),\n",
       "     ('tornado', '6.0.3'),\n",
       "     ('toolz', '0.10.0')),\n",
       "    'optional': (('numpy', '1.17.2'),\n",
       "     ('pandas', '1.0.1'),\n",
       "     ('bokeh', '1.3.4'),\n",
       "     ('lz4', None),\n",
       "     ('dask_ml', None),\n",
       "     ('blosc', None))}},\n",
       "  'tcp://127.0.0.1:44817': {'host': (('python', '3.7.4.final.0'),\n",
       "    ('python-bits', 64),\n",
       "    ('OS', 'Linux'),\n",
       "    ('OS-release', '4.12.14-150.47-default'),\n",
       "    ('machine', 'x86_64'),\n",
       "    ('processor', 'x86_64'),\n",
       "    ('byteorder', 'little'),\n",
       "    ('LC_ALL', 'None'),\n",
       "    ('LANG', 'C.UTF-8'),\n",
       "    ('LOCALE', 'en_US.UTF-8')),\n",
       "   'packages': {'required': (('dask', '2.5.2'),\n",
       "     ('distributed', '2.5.2'),\n",
       "     ('msgpack', '0.6.1'),\n",
       "     ('cloudpickle', '1.2.2'),\n",
       "     ('tornado', '6.0.3'),\n",
       "     ('toolz', '0.10.0')),\n",
       "    'optional': (('numpy', '1.17.2'),\n",
       "     ('pandas', '1.0.1'),\n",
       "     ('bokeh', '1.3.4'),\n",
       "     ('lz4', None),\n",
       "     ('dask_ml', None),\n",
       "     ('blosc', None))}}},\n",
       " 'client': {'host': [('python', '3.7.4.final.0'),\n",
       "   ('python-bits', 64),\n",
       "   ('OS', 'Linux'),\n",
       "   ('OS-release', '4.12.14-150.47-default'),\n",
       "   ('machine', 'x86_64'),\n",
       "   ('processor', 'x86_64'),\n",
       "   ('byteorder', 'little'),\n",
       "   ('LC_ALL', 'None'),\n",
       "   ('LANG', 'C.UTF-8'),\n",
       "   ('LOCALE', 'en_US.UTF-8')],\n",
       "  'packages': {'required': [('dask', '2.5.2'),\n",
       "    ('distributed', '2.5.2'),\n",
       "    ('msgpack', '0.6.1'),\n",
       "    ('cloudpickle', '1.2.2'),\n",
       "    ('tornado', '6.0.3'),\n",
       "    ('toolz', '0.10.0')],\n",
       "   'optional': [('numpy', '1.17.2'),\n",
       "    ('pandas', '1.0.1'),\n",
       "    ('bokeh', '1.3.4'),\n",
       "    ('lz4', None),\n",
       "    ('dask_ml', None),\n",
       "    ('blosc', None)]}}}"
      ]
     },
     "execution_count": 8,
     "metadata": {},
     "output_type": "execute_result"
    }
   ],
   "source": [
    "client.get_versions(check=True)"
   ]
  },
  {
   "cell_type": "code",
   "execution_count": 32,
   "metadata": {},
   "outputs": [
    {
     "data": {
      "text/html": [
       "<b>Future: mclusters</b> <font color=\"gray\">status: </font><font color=\"red\">error</font>, <font color=\"gray\">key: </font>mclusters-0eb7fe02f81de1bd3ab0af2e6f406aaf"
      ],
      "text/plain": [
       "<Future: status: error, key: mclusters-0eb7fe02f81de1bd3ab0af2e6f406aaf>"
      ]
     },
     "execution_count": 32,
     "metadata": {},
     "output_type": "execute_result"
    }
   ],
   "source": [
    "futures[0]"
   ]
  },
  {
   "cell_type": "code",
   "execution_count": 33,
   "metadata": {},
   "outputs": [
    {
     "ename": "ModuleNotFoundError",
     "evalue": "No module named 'pandas'",
     "output_type": "error",
     "traceback": [
      "\u001b[0;31m---------------------------------------------------------------------------\u001b[0m",
      "\u001b[0;31mModuleNotFoundError\u001b[0m                       Traceback (most recent call last)",
      "\u001b[0;32m<ipython-input-33-d101ef136b83>\u001b[0m in \u001b[0;36m<module>\u001b[0;34m\u001b[0m\n\u001b[0;32m----> 1\u001b[0;31m \u001b[0mcluster_results\u001b[0m\u001b[0;34m,\u001b[0m \u001b[0mcluster_gal_results\u001b[0m \u001b[0;34m=\u001b[0m \u001b[0mclient\u001b[0m\u001b[0;34m.\u001b[0m\u001b[0mgather\u001b[0m\u001b[0;34m(\u001b[0m\u001b[0mfutures\u001b[0m\u001b[0;34m)\u001b[0m\u001b[0;34m\u001b[0m\u001b[0m\n\u001b[0m",
      "\u001b[0;32m/global/common/software/desi/cori/desiconda/20190804-1.3.0-spec/conda/lib/python3.6/site-packages/distributed/client.py\u001b[0m in \u001b[0;36mgather\u001b[0;34m(self, futures, errors, direct, asynchronous)\u001b[0m\n\u001b[1;32m   1809\u001b[0m                 \u001b[0mdirect\u001b[0m\u001b[0;34m=\u001b[0m\u001b[0mdirect\u001b[0m\u001b[0;34m,\u001b[0m\u001b[0;34m\u001b[0m\u001b[0m\n\u001b[1;32m   1810\u001b[0m                 \u001b[0mlocal_worker\u001b[0m\u001b[0;34m=\u001b[0m\u001b[0mlocal_worker\u001b[0m\u001b[0;34m,\u001b[0m\u001b[0;34m\u001b[0m\u001b[0m\n\u001b[0;32m-> 1811\u001b[0;31m                 \u001b[0masynchronous\u001b[0m\u001b[0;34m=\u001b[0m\u001b[0masynchronous\u001b[0m\u001b[0;34m,\u001b[0m\u001b[0;34m\u001b[0m\u001b[0m\n\u001b[0m\u001b[1;32m   1812\u001b[0m             )\n\u001b[1;32m   1813\u001b[0m \u001b[0;34m\u001b[0m\u001b[0m\n",
      "\u001b[0;32m/global/common/software/desi/cori/desiconda/20190804-1.3.0-spec/conda/lib/python3.6/site-packages/distributed/client.py\u001b[0m in \u001b[0;36msync\u001b[0;34m(self, func, asynchronous, callback_timeout, *args, **kwargs)\u001b[0m\n\u001b[1;32m    750\u001b[0m         \u001b[0;32melse\u001b[0m\u001b[0;34m:\u001b[0m\u001b[0;34m\u001b[0m\u001b[0m\n\u001b[1;32m    751\u001b[0m             return sync(\n\u001b[0;32m--> 752\u001b[0;31m                 \u001b[0mself\u001b[0m\u001b[0;34m.\u001b[0m\u001b[0mloop\u001b[0m\u001b[0;34m,\u001b[0m \u001b[0mfunc\u001b[0m\u001b[0;34m,\u001b[0m \u001b[0;34m*\u001b[0m\u001b[0margs\u001b[0m\u001b[0;34m,\u001b[0m \u001b[0mcallback_timeout\u001b[0m\u001b[0;34m=\u001b[0m\u001b[0mcallback_timeout\u001b[0m\u001b[0;34m,\u001b[0m \u001b[0;34m**\u001b[0m\u001b[0mkwargs\u001b[0m\u001b[0;34m\u001b[0m\u001b[0m\n\u001b[0m\u001b[1;32m    753\u001b[0m             )\n\u001b[1;32m    754\u001b[0m \u001b[0;34m\u001b[0m\u001b[0m\n",
      "\u001b[0;32m/global/common/software/desi/cori/desiconda/20190804-1.3.0-spec/conda/lib/python3.6/site-packages/distributed/utils.py\u001b[0m in \u001b[0;36msync\u001b[0;34m(loop, func, callback_timeout, *args, **kwargs)\u001b[0m\n\u001b[1;32m    325\u001b[0m             \u001b[0me\u001b[0m\u001b[0;34m.\u001b[0m\u001b[0mwait\u001b[0m\u001b[0;34m(\u001b[0m\u001b[0;36m10\u001b[0m\u001b[0;34m)\u001b[0m\u001b[0;34m\u001b[0m\u001b[0m\n\u001b[1;32m    326\u001b[0m     \u001b[0;32mif\u001b[0m \u001b[0merror\u001b[0m\u001b[0;34m[\u001b[0m\u001b[0;36m0\u001b[0m\u001b[0;34m]\u001b[0m\u001b[0;34m:\u001b[0m\u001b[0;34m\u001b[0m\u001b[0m\n\u001b[0;32m--> 327\u001b[0;31m         \u001b[0msix\u001b[0m\u001b[0;34m.\u001b[0m\u001b[0mreraise\u001b[0m\u001b[0;34m(\u001b[0m\u001b[0;34m*\u001b[0m\u001b[0merror\u001b[0m\u001b[0;34m[\u001b[0m\u001b[0;36m0\u001b[0m\u001b[0;34m]\u001b[0m\u001b[0;34m)\u001b[0m\u001b[0;34m\u001b[0m\u001b[0m\n\u001b[0m\u001b[1;32m    328\u001b[0m     \u001b[0;32melse\u001b[0m\u001b[0;34m:\u001b[0m\u001b[0;34m\u001b[0m\u001b[0m\n\u001b[1;32m    329\u001b[0m         \u001b[0;32mreturn\u001b[0m \u001b[0mresult\u001b[0m\u001b[0;34m[\u001b[0m\u001b[0;36m0\u001b[0m\u001b[0;34m]\u001b[0m\u001b[0;34m\u001b[0m\u001b[0m\n",
      "\u001b[0;32m/global/common/software/desi/cori/desiconda/20190804-1.3.0-spec/conda/lib/python3.6/site-packages/six.py\u001b[0m in \u001b[0;36mreraise\u001b[0;34m(tp, value, tb)\u001b[0m\n\u001b[1;32m    691\u001b[0m             \u001b[0;32mif\u001b[0m \u001b[0mvalue\u001b[0m\u001b[0;34m.\u001b[0m\u001b[0m__traceback__\u001b[0m \u001b[0;32mis\u001b[0m \u001b[0;32mnot\u001b[0m \u001b[0mtb\u001b[0m\u001b[0;34m:\u001b[0m\u001b[0;34m\u001b[0m\u001b[0m\n\u001b[1;32m    692\u001b[0m                 \u001b[0;32mraise\u001b[0m \u001b[0mvalue\u001b[0m\u001b[0;34m.\u001b[0m\u001b[0mwith_traceback\u001b[0m\u001b[0;34m(\u001b[0m\u001b[0mtb\u001b[0m\u001b[0;34m)\u001b[0m\u001b[0;34m\u001b[0m\u001b[0m\n\u001b[0;32m--> 693\u001b[0;31m             \u001b[0;32mraise\u001b[0m \u001b[0mvalue\u001b[0m\u001b[0;34m\u001b[0m\u001b[0m\n\u001b[0m\u001b[1;32m    694\u001b[0m         \u001b[0;32mfinally\u001b[0m\u001b[0;34m:\u001b[0m\u001b[0;34m\u001b[0m\u001b[0m\n\u001b[1;32m    695\u001b[0m             \u001b[0mvalue\u001b[0m \u001b[0;34m=\u001b[0m \u001b[0;32mNone\u001b[0m\u001b[0;34m\u001b[0m\u001b[0m\n",
      "\u001b[0;32m/global/common/software/desi/cori/desiconda/20190804-1.3.0-spec/conda/lib/python3.6/site-packages/distributed/utils.py\u001b[0m in \u001b[0;36mf\u001b[0;34m()\u001b[0m\n\u001b[1;32m    310\u001b[0m             \u001b[0;32mif\u001b[0m \u001b[0mcallback_timeout\u001b[0m \u001b[0;32mis\u001b[0m \u001b[0;32mnot\u001b[0m \u001b[0;32mNone\u001b[0m\u001b[0;34m:\u001b[0m\u001b[0;34m\u001b[0m\u001b[0m\n\u001b[1;32m    311\u001b[0m                 \u001b[0mfuture\u001b[0m \u001b[0;34m=\u001b[0m \u001b[0mgen\u001b[0m\u001b[0;34m.\u001b[0m\u001b[0mwith_timeout\u001b[0m\u001b[0;34m(\u001b[0m\u001b[0mtimedelta\u001b[0m\u001b[0;34m(\u001b[0m\u001b[0mseconds\u001b[0m\u001b[0;34m=\u001b[0m\u001b[0mcallback_timeout\u001b[0m\u001b[0;34m)\u001b[0m\u001b[0;34m,\u001b[0m \u001b[0mfuture\u001b[0m\u001b[0;34m)\u001b[0m\u001b[0;34m\u001b[0m\u001b[0m\n\u001b[0;32m--> 312\u001b[0;31m             \u001b[0mresult\u001b[0m\u001b[0;34m[\u001b[0m\u001b[0;36m0\u001b[0m\u001b[0;34m]\u001b[0m \u001b[0;34m=\u001b[0m \u001b[0;32myield\u001b[0m \u001b[0mfuture\u001b[0m\u001b[0;34m\u001b[0m\u001b[0m\n\u001b[0m\u001b[1;32m    313\u001b[0m         \u001b[0;32mexcept\u001b[0m \u001b[0mException\u001b[0m \u001b[0;32mas\u001b[0m \u001b[0mexc\u001b[0m\u001b[0;34m:\u001b[0m\u001b[0;34m\u001b[0m\u001b[0m\n\u001b[1;32m    314\u001b[0m             \u001b[0merror\u001b[0m\u001b[0;34m[\u001b[0m\u001b[0;36m0\u001b[0m\u001b[0;34m]\u001b[0m \u001b[0;34m=\u001b[0m \u001b[0msys\u001b[0m\u001b[0;34m.\u001b[0m\u001b[0mexc_info\u001b[0m\u001b[0;34m(\u001b[0m\u001b[0;34m)\u001b[0m\u001b[0;34m\u001b[0m\u001b[0m\n",
      "\u001b[0;32m/global/common/software/desi/cori/desiconda/20190804-1.3.0-spec/conda/lib/python3.6/site-packages/tornado/gen.py\u001b[0m in \u001b[0;36mrun\u001b[0;34m(self)\u001b[0m\n\u001b[1;32m    733\u001b[0m \u001b[0;34m\u001b[0m\u001b[0m\n\u001b[1;32m    734\u001b[0m                     \u001b[0;32mtry\u001b[0m\u001b[0;34m:\u001b[0m\u001b[0;34m\u001b[0m\u001b[0m\n\u001b[0;32m--> 735\u001b[0;31m                         \u001b[0mvalue\u001b[0m \u001b[0;34m=\u001b[0m \u001b[0mfuture\u001b[0m\u001b[0;34m.\u001b[0m\u001b[0mresult\u001b[0m\u001b[0;34m(\u001b[0m\u001b[0;34m)\u001b[0m\u001b[0;34m\u001b[0m\u001b[0m\n\u001b[0m\u001b[1;32m    736\u001b[0m                     \u001b[0;32mexcept\u001b[0m \u001b[0mException\u001b[0m\u001b[0;34m:\u001b[0m\u001b[0;34m\u001b[0m\u001b[0m\n\u001b[1;32m    737\u001b[0m                         \u001b[0mexc_info\u001b[0m \u001b[0;34m=\u001b[0m \u001b[0msys\u001b[0m\u001b[0;34m.\u001b[0m\u001b[0mexc_info\u001b[0m\u001b[0;34m(\u001b[0m\u001b[0;34m)\u001b[0m\u001b[0;34m\u001b[0m\u001b[0m\n",
      "\u001b[0;32m/global/common/software/desi/cori/desiconda/20190804-1.3.0-spec/conda/lib/python3.6/site-packages/distributed/client.py\u001b[0m in \u001b[0;36m_gather\u001b[0;34m(self, futures, errors, direct, local_worker)\u001b[0m\n\u001b[1;32m   1665\u001b[0m                             \u001b[0mexc\u001b[0m \u001b[0;34m=\u001b[0m \u001b[0mCancelledError\u001b[0m\u001b[0;34m(\u001b[0m\u001b[0mkey\u001b[0m\u001b[0;34m)\u001b[0m\u001b[0;34m\u001b[0m\u001b[0m\n\u001b[1;32m   1666\u001b[0m                         \u001b[0;32melse\u001b[0m\u001b[0;34m:\u001b[0m\u001b[0;34m\u001b[0m\u001b[0m\n\u001b[0;32m-> 1667\u001b[0;31m                             \u001b[0msix\u001b[0m\u001b[0;34m.\u001b[0m\u001b[0mreraise\u001b[0m\u001b[0;34m(\u001b[0m\u001b[0mtype\u001b[0m\u001b[0;34m(\u001b[0m\u001b[0mexception\u001b[0m\u001b[0;34m)\u001b[0m\u001b[0;34m,\u001b[0m \u001b[0mexception\u001b[0m\u001b[0;34m,\u001b[0m \u001b[0mtraceback\u001b[0m\u001b[0;34m)\u001b[0m\u001b[0;34m\u001b[0m\u001b[0m\n\u001b[0m\u001b[1;32m   1668\u001b[0m                         \u001b[0;32mraise\u001b[0m \u001b[0mexc\u001b[0m\u001b[0;34m\u001b[0m\u001b[0m\n\u001b[1;32m   1669\u001b[0m                     \u001b[0;32mif\u001b[0m \u001b[0merrors\u001b[0m \u001b[0;34m==\u001b[0m \u001b[0;34m\"skip\"\u001b[0m\u001b[0;34m:\u001b[0m\u001b[0;34m\u001b[0m\u001b[0m\n",
      "\u001b[0;32m/global/common/software/desi/cori/desiconda/20190804-1.3.0-spec/conda/lib/python3.6/site-packages/six.py\u001b[0m in \u001b[0;36mreraise\u001b[0;34m(tp, value, tb)\u001b[0m\n\u001b[1;32m    690\u001b[0m                 \u001b[0mvalue\u001b[0m \u001b[0;34m=\u001b[0m \u001b[0mtp\u001b[0m\u001b[0;34m(\u001b[0m\u001b[0;34m)\u001b[0m\u001b[0;34m\u001b[0m\u001b[0m\n\u001b[1;32m    691\u001b[0m             \u001b[0;32mif\u001b[0m \u001b[0mvalue\u001b[0m\u001b[0;34m.\u001b[0m\u001b[0m__traceback__\u001b[0m \u001b[0;32mis\u001b[0m \u001b[0;32mnot\u001b[0m \u001b[0mtb\u001b[0m\u001b[0;34m:\u001b[0m\u001b[0;34m\u001b[0m\u001b[0m\n\u001b[0;32m--> 692\u001b[0;31m                 \u001b[0;32mraise\u001b[0m \u001b[0mvalue\u001b[0m\u001b[0;34m.\u001b[0m\u001b[0mwith_traceback\u001b[0m\u001b[0;34m(\u001b[0m\u001b[0mtb\u001b[0m\u001b[0;34m)\u001b[0m\u001b[0;34m\u001b[0m\u001b[0m\n\u001b[0m\u001b[1;32m    693\u001b[0m             \u001b[0;32mraise\u001b[0m \u001b[0mvalue\u001b[0m\u001b[0;34m\u001b[0m\u001b[0m\n\u001b[1;32m    694\u001b[0m         \u001b[0;32mfinally\u001b[0m\u001b[0;34m:\u001b[0m\u001b[0;34m\u001b[0m\u001b[0m\n",
      "\u001b[0;32m/usr/common/software/jupyter/19-11/lib/python3.7/site-packages/distributed/protocol/pickle.py\u001b[0m in \u001b[0;36mloads\u001b[0;34m()\u001b[0m\n\u001b[1;32m     57\u001b[0m \u001b[0;32mdef\u001b[0m \u001b[0mloads\u001b[0m\u001b[0;34m(\u001b[0m\u001b[0mx\u001b[0m\u001b[0;34m)\u001b[0m\u001b[0;34m:\u001b[0m\u001b[0;34m\u001b[0m\u001b[0m\n\u001b[1;32m     58\u001b[0m     \u001b[0;32mtry\u001b[0m\u001b[0;34m:\u001b[0m\u001b[0;34m\u001b[0m\u001b[0m\n\u001b[0;32m---> 59\u001b[0;31m         \u001b[0;32mreturn\u001b[0m \u001b[0mpickle\u001b[0m\u001b[0;34m.\u001b[0m\u001b[0mloads\u001b[0m\u001b[0;34m(\u001b[0m\u001b[0mx\u001b[0m\u001b[0;34m)\u001b[0m\u001b[0;34m\u001b[0m\u001b[0m\n\u001b[0m\u001b[1;32m     60\u001b[0m     \u001b[0;32mexcept\u001b[0m \u001b[0mException\u001b[0m\u001b[0;34m:\u001b[0m\u001b[0;34m\u001b[0m\u001b[0m\n\u001b[1;32m     61\u001b[0m         \u001b[0mlogger\u001b[0m\u001b[0;34m.\u001b[0m\u001b[0minfo\u001b[0m\u001b[0;34m(\u001b[0m\u001b[0;34m\"Failed to deserialize %s\"\u001b[0m\u001b[0;34m,\u001b[0m \u001b[0mx\u001b[0m\u001b[0;34m[\u001b[0m\u001b[0;34m:\u001b[0m\u001b[0;36m10000\u001b[0m\u001b[0;34m]\u001b[0m\u001b[0;34m,\u001b[0m \u001b[0mexc_info\u001b[0m\u001b[0;34m=\u001b[0m\u001b[0;32mTrue\u001b[0m\u001b[0;34m)\u001b[0m\u001b[0;34m\u001b[0m\u001b[0m\n",
      "\u001b[0;32m/usr/common/software/jupyter/19-11/lib/python3.7/site-packages/cloudpickle/cloudpickle.py\u001b[0m in \u001b[0;36msubimport\u001b[0;34m()\u001b[0m\n\u001b[1;32m   1136\u001b[0m \u001b[0;31m# hack for __import__ not working as desired\u001b[0m\u001b[0;34m\u001b[0m\u001b[0;34m\u001b[0m\u001b[0m\n\u001b[1;32m   1137\u001b[0m \u001b[0;32mdef\u001b[0m \u001b[0msubimport\u001b[0m\u001b[0;34m(\u001b[0m\u001b[0mname\u001b[0m\u001b[0;34m)\u001b[0m\u001b[0;34m:\u001b[0m\u001b[0;34m\u001b[0m\u001b[0m\n\u001b[0;32m-> 1138\u001b[0;31m     \u001b[0m__import__\u001b[0m\u001b[0;34m(\u001b[0m\u001b[0mname\u001b[0m\u001b[0;34m)\u001b[0m\u001b[0;34m\u001b[0m\u001b[0m\n\u001b[0m\u001b[1;32m   1139\u001b[0m     \u001b[0;32mreturn\u001b[0m \u001b[0msys\u001b[0m\u001b[0;34m.\u001b[0m\u001b[0mmodules\u001b[0m\u001b[0;34m[\u001b[0m\u001b[0mname\u001b[0m\u001b[0;34m]\u001b[0m\u001b[0;34m\u001b[0m\u001b[0m\n\u001b[1;32m   1140\u001b[0m \u001b[0;34m\u001b[0m\u001b[0m\n",
      "\u001b[0;31mModuleNotFoundError\u001b[0m: No module named 'pandas'"
     ]
    }
   ],
   "source": [
    "cluster_results, cluster_gal_results = client.gather(futures)"
   ]
  },
  {
   "cell_type": "code",
   "execution_count": 9,
   "metadata": {},
   "outputs": [
    {
     "name": "stderr",
     "output_type": "stream",
     "text": [
      "/global/homes/m/mjyb16/.conda/envs/desi_dask/lib/python3.7/site-packages/dask/dataframe/utils.py:14: FutureWarning: pandas.util.testing is deprecated. Use the functions in the public API at pandas.testing instead.\n",
      "  import pandas.util.testing as tm\n"
     ]
    }
   ],
   "source": [
    "import dask.dataframe as dd"
   ]
  },
  {
   "cell_type": "code",
   "execution_count": 31,
   "metadata": {},
   "outputs": [
    {
     "name": "stderr",
     "output_type": "stream",
     "text": [
      "distributed.client - ERROR - Failed to reconnect to scheduler after 10.00 seconds, closing client\n",
      "distributed.utils - ERROR - \n",
      "Traceback (most recent call last):\n",
      "  File \"/global/homes/m/mjyb16/.conda/envs/desi_dask/lib/python3.7/site-packages/distributed/utils.py\", line 662, in log_errors\n",
      "    yield\n",
      "  File \"/global/homes/m/mjyb16/.conda/envs/desi_dask/lib/python3.7/site-packages/distributed/client.py\", line 1284, in _close\n",
      "    await gen.with_timeout(timedelta(seconds=2), list(coroutines))\n",
      "concurrent.futures._base.CancelledError\n",
      "distributed.utils - ERROR - \n",
      "Traceback (most recent call last):\n",
      "  File \"/global/homes/m/mjyb16/.conda/envs/desi_dask/lib/python3.7/site-packages/distributed/utils.py\", line 662, in log_errors\n",
      "    yield\n",
      "  File \"/global/homes/m/mjyb16/.conda/envs/desi_dask/lib/python3.7/site-packages/distributed/client.py\", line 1013, in _reconnect\n",
      "    await self._close()\n",
      "  File \"/global/homes/m/mjyb16/.conda/envs/desi_dask/lib/python3.7/site-packages/distributed/client.py\", line 1284, in _close\n",
      "    await gen.with_timeout(timedelta(seconds=2), list(coroutines))\n",
      "concurrent.futures._base.CancelledError\n"
     ]
    }
   ],
   "source": [
    "cluster.close()\n",
    "client.shutdown()"
   ]
  },
  {
   "cell_type": "code",
   "execution_count": null,
   "metadata": {},
   "outputs": [],
   "source": []
  }
 ],
 "metadata": {
  "kernelspec": {
   "display_name": "desidask",
   "language": "python",
   "name": "desidask"
  },
  "language_info": {
   "codemirror_mode": {
    "name": "ipython",
    "version": 3
   },
   "file_extension": ".py",
   "mimetype": "text/x-python",
   "name": "python",
   "nbconvert_exporter": "python",
   "pygments_lexer": "ipython3",
   "version": "3.7.4"
  }
 },
 "nbformat": 4,
 "nbformat_minor": 4
}
